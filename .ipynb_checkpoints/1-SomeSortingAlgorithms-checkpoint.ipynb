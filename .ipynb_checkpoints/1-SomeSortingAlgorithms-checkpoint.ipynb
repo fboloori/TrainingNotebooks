{
 "cells": [
  {
   "cell_type": "markdown",
   "metadata": {},
   "source": [
    "# Heap Sort"
   ]
  },
  {
   "cell_type": "markdown",
   "metadata": {
    "scrolled": true
   },
   "source": [
    "If we have an array to sort, we should correspond it to a heap first. Suppose that we have an array like this:\n",
    "arr= [ 10 , 8 , 5 , 9 , 3 , 4 , 6 , 1 , 2]\n",
    "we build \"heap\" which is an \"almost complete complete binary tree from that like this: \n",
    "(The first element is the root and we fill the binary tree from left to right as follows:)"
   ]
  },
  {
   "cell_type": "markdown",
   "metadata": {},
   "source": [
    "Figure 1: a Heap example corresponding to [ 10 , 8 , 5 , 9 , 3 , 4 , 6 , 1 , 2]:\n",
    "           10\n",
    "         /   \\\n",
    "        8     5\n",
    "       / \\   / \\\n",
    "      9  3* 4*  6*\n",
    "     / \\\n",
    "    1*  2* \n",
    "    \n",
    "The nodes with * sign are leaves.\n",
    "Each node is either a leaf or it has child."
   ]
  },
  {
   "cell_type": "markdown",
   "metadata": {},
   "source": [
    "If \"Each parent node is greater than (or equal to) its children\", then we have\"Max-Heap\".\n",
    "If \"Each parent node is less than (or equal to) its children\", then we have\"Min-Heap\".\n",
    "Here is an example of a \"max-Heap\". Without loss of the generality, we continue with \"Max Heap\"."
   ]
  },
  {
   "cell_type": "markdown",
   "metadata": {},
   "source": [
    "Figure 2: a \"max Heap\" example :\n",
    "           10\n",
    "         /   \\\n",
    "        8     5\n",
    "       / \\   / \\\n",
    "      7  3* 4*  2*\n",
    "     / \\\n",
    "    1*  6* \n",
    "    \n",
    " This is equivallent to the array [10,8,5,7,3,4,2,1,6]\n",
    "    \n",
    " IMPORTANT:\n",
    " As you see the important property of a \"max-heap\" tree is that the root is the maximum element of the tree. "
   ]
  },
  {
   "cell_type": "markdown",
   "metadata": {},
   "source": [
    "Algorithm:\n",
    "Suppose that we have an array. In order to sort it by \"heap sort\" we should do two steps:\n",
    "\n",
    "    step 1: Build a \"max-Heap\" from the array.\n",
    "    step 2: Extract elements from the Max-heap in sorted order."
   ]
  },
  {
   "cell_type": "markdown",
   "metadata": {},
   "source": [
    "Let's explain the step 2 at first.\n",
    "Consider that we have a \"max heap tree\" (like Figure 2) in hand, and we want to see how the sorted aaray is extracted from that.we follow these steps:\n",
    "\n",
    "   I: The maximum element in the max-heap is its root.\n",
    "      So, swap the root of the tree with the last leaf of the tree and put this maximum aside.\n",
    "      In the corresponding array,the last element is maximum and is swaped with the first element(or root)\n",
    "     \n",
    "      Figure 3: Root swap with the last element.  \n",
    "           10                    6#       \n",
    "         /   \\                 /   \\ \n",
    "        8     5     -->       8     5    \n",
    "       / \\   / \\             / \\   / \\  \n",
    "      7  3  4   2           7  3  4   2  \n",
    "     / \\                   / \\ \n",
    "    1   6                 1   10#\n",
    "   [10,8,5,7,3,4,2,1,6]   [6,8,5,7,3,4,2,1,  10]\n",
    "     \n",
    "  II: Now, neglect the last element and reconstruct the max-heap for the rest of the tree form its root. \n",
    "     (In the corresponding array, the last element is the maximum element which is put aside\n",
    "      and reconstruction is done for the max-heap tree corresponding to the  rest of the array.)\n",
    "     \n",
    "     Figure 4: tree is re-constructed into a max-heap again. \n",
    "                8                 8\n",
    "              /   \\             /   \\\n",
    "             6     5     -->   7     5    -->   Max heap obtained\n",
    "            / \\   / \\         / \\   / \\\n",
    "           7  3  4   2       6  3  4   2 \n",
    "          /                 /\n",
    "         1                 1 \n",
    "   [6,8,5,7,3,4,2,1,  10]  [8,7,5,6,3,4,2,1,  10]\n",
    "    \n",
    "   III: Do the above elimination and recunstructipn procedure until only the root remains:\n",
    "   \n",
    "                8                 1#\n",
    "              /   \\    I:swap   /   \\\n",
    "             7     5     -->   7     5   \n",
    "            / \\   / \\         / \\   / \\\n",
    "           6  3  4   2       6  3  4   2 \n",
    "          /                 /\n",
    "         1*                8#\n",
    "   [8,7,5,6,3,4,2,1,  10]  [1,7,5,6,3,4,2,  8,10]\n",
    "   \n",
    "                1                         7                       7\n",
    "              /   \\    II:Reconstruct   /   \\  II:Reconstruct   /   \\\n",
    "             7     5     -->           1     5    -->          6     5  -->   Max heap obtained\n",
    "            / \\   / \\                 / \\   / \\               / \\   / \\\n",
    "           6  3* 4*  2*              6  3* 4*  2*            1  3* 4*  2*\n",
    "                                    \n",
    "                                  \n",
    "   [8,7,5,6,3,4,2,1,  10]     [1,7,5,6,3,4,2,  8,10]    [7,6,5,1,3,4,2,  8,10]         \n",
    "   \n",
    "  ============================================================================================= \n",
    "   \n",
    "                7                 2#\n",
    "              /   \\    I:swap   /   \\\n",
    "             6     5     -->   6     5   \n",
    "            / \\   / \\         / \\   / \\\n",
    "           1  3  4   2       1  3  4   7#\n",
    "                        \n",
    "   [7,6,5,1,3,4,2,    8,10]  [2,6,5,1,3,4,   7,8,10]\n",
    "   \n",
    "                2                         6                       6\n",
    "              /   \\    II:Reconstruct   /   \\  II:Reconstruct   /   \\\n",
    "             6     5     -->           2     5    -->          3     5  -->   Max heap obtained\n",
    "            / \\   /                   / \\   /                 / \\   / \n",
    "           1  3  4                   1   3 4                 1   2 4\n",
    "                                    \n",
    "                                  \n",
    "   [2,6,5,1,3,4,   7,8,10]     [6,2,5,1,3,4, 7,8,10]    [6,3,5,1,2,4,    7,8,10]       \n",
    "   \n",
    "   =============================================================================================\n",
    "   \n",
    "   \n",
    "   \n",
    "   AND IT IS TO BE CONTINED UNTIL THE ROOT IS REDUCED INTO ONLY 1 NODE....                                  \n",
    "   \n",
    "   THIS IS THE RECURSIVE IMPLEMENTATION OF IT.\n",
    "   \n",
    "   In \"heapify\" function implementation, node i in the above level is compared to its children and swap is done if needed.\n",
    "   It also recursively do the swap for the child which is substituted with node i.\n",
    "   \n",
    "   \n",
    "   STEP 1:building the Max-heap\n",
    "    \n",
    "Now what if our array was not corresponding to a max-heap?\n",
    "Here we perform \"heap_sort\" function to mak a max_heap and max_hipify the nodes from the bottom to the top of the tree in order to obtain our max_heap tree.\n"
   ]
  },
  {
   "cell_type": "code",
   "execution_count": 6,
   "metadata": {},
   "outputs": [],
   "source": [
    "import numpy as np\n",
    "\n",
    "def heap_sort(arr):\n",
    "    n = len(arr)\n",
    "\n",
    "    # Convert the input array to a max-heap\n",
    "    for i in range(n // 2 - 1, -1, -1):\n",
    "        heapify(arr, n, i)\n",
    "\n",
    "    # Sort the heap\n",
    "    for i in range(n - 1, 0, -1):\n",
    "        arr[0], arr[i] = arr[i], arr[0]\n",
    "        heapify(arr, i, 0)\n",
    "\n",
    "    return arr\n",
    "\n",
    "def heapify(arr, n, i):\n",
    "    largest = i  # Initialize largest as root\n",
    "    l = 2 * i + 1  # left = 2*i + 1\n",
    "    r = 2 * i + 2  # right = 2*i + 2\n",
    "\n",
    "    # If left child is larger than root\n",
    "    if l < n and arr[l] > arr[largest]:\n",
    "        largest = l\n",
    "\n",
    "    # If right child is larger than largest so far\n",
    "    if r < n and arr[r] > arr[largest]:\n",
    "        largest = r\n",
    "\n",
    "    # If largest is not root\n",
    "    if largest != i:\n",
    "        arr[i], arr[largest] = arr[largest], arr[i]  # swap\n",
    "\n",
    "        # Recursively heapify the affected sub-tree\n",
    "        heapify(arr, n, largest)"
   ]
  },
  {
   "cell_type": "markdown",
   "metadata": {},
   "source": [
    "# Quick sort"
   ]
  },
  {
   "cell_type": "markdown",
   "metadata": {},
   "source": [
    "Quick sort is a divide-and-conquer sorting algorithm that works by selecting a pivot element from the array, partitioning the other elements into two sub-arrays based on whether they are less than or greater than the pivot, and then recursively sorting those sub-arrays. Here's a step-by-step explanation of the code:\n"
   ]
  },
  {
   "cell_type": "code",
   "execution_count": 7,
   "metadata": {},
   "outputs": [],
   "source": [
    "\n",
    "def quick_sort(arr):\n",
    "    if len(arr) <= 1:\n",
    "        return arr\n",
    "    else:\n",
    "        pivot = arr[0]\n",
    "        left = np.array([x for x in arr[1:] if x <= pivot])\n",
    "        right = np.array([x for x in arr[1:] if x > pivot])\n",
    "        return np.concatenate([quick_sort(left), [pivot], quick_sort(right)])"
   ]
  },
  {
   "cell_type": "markdown",
   "metadata": {},
   "source": [
    "The quick_sort function takes an array arr as input.\n",
    "\n",
    "If the length of the input array is <= 1, the function returns the array as is. This is the base case of the recursive algorithm.\n",
    "\n",
    "Otherwise, the function selects the first element of the array as the pivot element.\n",
    "\n",
    "The function then creates two sub-arrays: \n",
    "       left, which contains all elements that are less than or equal to the pivot\n",
    "       right, which contains all elements that are greater than the pivot.\n",
    " \n",
    "The NumPy array function is used to create these sub-arrays.\n",
    "\n",
    "The function then recursively calls itself on the left and right sub-arrays, and concatenates the sorted left sub-array, the pivot element, and the sorted right sub-array together using the NumPy concatenate function.\n",
    "\n",
    "The sorted array is returned from the function."
   ]
  },
  {
   "cell_type": "markdown",
   "metadata": {},
   "source": [
    "# Merge sort\n"
   ]
  },
  {
   "cell_type": "markdown",
   "metadata": {},
   "source": []
  },
  {
   "cell_type": "code",
   "execution_count": 8,
   "metadata": {},
   "outputs": [],
   "source": [
    "import numpy as np\n",
    "\n",
    "def merge_sort(arr):\n",
    "    if len(arr) > 1:\n",
    "        \"\"\"If the length of the input array is greater than 1, the function computes the middle index of the array\n",
    "        and divides the array into two sub-arrays:\n",
    "        left, which contains the first half of the array, \n",
    "        and right, which contains the second half of the array.\n",
    "        \"\"\"\n",
    "        mid = len(arr) // 2\n",
    "        left = arr[:mid]\n",
    "        right = arr[mid:]\n",
    "        \n",
    "        #The function then recursively calls itself on the left and right sub-arrays\n",
    "\n",
    "        merge_sort(left)\n",
    "        merge_sort(right) \n",
    "        \n",
    "        \"\"\"Once the left and right sub-arrays are sorted, the function merges them back together.\n",
    "        This is done by comparing the first elements of the two sub-arrays,\n",
    "        and then copying the smaller element into the final array. \n",
    "        The indices i, j, and k are used to track the positions in the left, right, and final arrays respectively\n",
    "        \"\"\"\n",
    "        i = j = k = 0\n",
    "        \n",
    "        # Merge the two sorted sub-arrays\n",
    "        while i < len(left) and j < len(right):\n",
    "            if left[i] < right[j]:\n",
    "                arr[k] = left[i]\n",
    "                i += 1\n",
    "            else:\n",
    "                arr[k] = right[j]\n",
    "                j += 1\n",
    "            k += 1\n",
    "            \n",
    "        \"\"\"\n",
    "        Any remaining elements in the left or right sub-arrays are then copied into the final array.\n",
    "        \"\"\"\n",
    "        \n",
    "        # Copy any remaining elements from the left sub-array\n",
    "        while i < len(left):\n",
    "            arr[k] = left[i]\n",
    "            i += 1\n",
    "            k += 1\n",
    "        \n",
    "        # Copy any remaining elements from the right sub-array\n",
    "        while j < len(right):\n",
    "            arr[k] = right[j]\n",
    "            j += 1\n",
    "            k += 1\n",
    "            \n",
    "    #The sorted array is returned from the function\n",
    "    return arr"
   ]
  },
  {
   "cell_type": "code",
   "execution_count": 10,
   "metadata": {},
   "outputs": [
    {
     "data": {
      "text/plain": [
       "[1, 2, 3, 4, 5, 6, 8]"
      ]
     },
     "execution_count": 10,
     "metadata": {},
     "output_type": "execute_result"
    }
   ],
   "source": [
    "a=[5,6,4,3,8,1,2]\n",
    "merge_sort(a)"
   ]
  },
  {
   "cell_type": "code",
   "execution_count": null,
   "metadata": {},
   "outputs": [],
   "source": []
  },
  {
   "cell_type": "code",
   "execution_count": null,
   "metadata": {},
   "outputs": [],
   "source": []
  },
  {
   "cell_type": "code",
   "execution_count": null,
   "metadata": {},
   "outputs": [],
   "source": []
  },
  {
   "cell_type": "code",
   "execution_count": null,
   "metadata": {},
   "outputs": [],
   "source": []
  },
  {
   "cell_type": "code",
   "execution_count": null,
   "metadata": {},
   "outputs": [],
   "source": []
  },
  {
   "cell_type": "code",
   "execution_count": null,
   "metadata": {},
   "outputs": [],
   "source": []
  },
  {
   "cell_type": "code",
   "execution_count": null,
   "metadata": {},
   "outputs": [],
   "source": []
  },
  {
   "cell_type": "code",
   "execution_count": null,
   "metadata": {},
   "outputs": [],
   "source": []
  },
  {
   "cell_type": "code",
   "execution_count": null,
   "metadata": {},
   "outputs": [],
   "source": []
  },
  {
   "cell_type": "code",
   "execution_count": null,
   "metadata": {},
   "outputs": [],
   "source": []
  },
  {
   "cell_type": "code",
   "execution_count": null,
   "metadata": {},
   "outputs": [],
   "source": []
  },
  {
   "cell_type": "code",
   "execution_count": null,
   "metadata": {},
   "outputs": [],
   "source": []
  },
  {
   "cell_type": "code",
   "execution_count": null,
   "metadata": {},
   "outputs": [],
   "source": []
  },
  {
   "cell_type": "code",
   "execution_count": null,
   "metadata": {},
   "outputs": [],
   "source": []
  },
  {
   "cell_type": "code",
   "execution_count": null,
   "metadata": {},
   "outputs": [],
   "source": []
  },
  {
   "cell_type": "code",
   "execution_count": null,
   "metadata": {},
   "outputs": [],
   "source": []
  },
  {
   "cell_type": "code",
   "execution_count": null,
   "metadata": {},
   "outputs": [],
   "source": []
  },
  {
   "cell_type": "code",
   "execution_count": null,
   "metadata": {},
   "outputs": [],
   "source": []
  },
  {
   "cell_type": "code",
   "execution_count": null,
   "metadata": {},
   "outputs": [],
   "source": []
  },
  {
   "cell_type": "code",
   "execution_count": null,
   "metadata": {},
   "outputs": [],
   "source": []
  },
  {
   "cell_type": "code",
   "execution_count": null,
   "metadata": {},
   "outputs": [],
   "source": []
  },
  {
   "cell_type": "code",
   "execution_count": null,
   "metadata": {},
   "outputs": [],
   "source": []
  },
  {
   "cell_type": "code",
   "execution_count": null,
   "metadata": {},
   "outputs": [],
   "source": []
  },
  {
   "cell_type": "code",
   "execution_count": null,
   "metadata": {},
   "outputs": [],
   "source": []
  },
  {
   "cell_type": "code",
   "execution_count": null,
   "metadata": {},
   "outputs": [],
   "source": []
  },
  {
   "cell_type": "code",
   "execution_count": null,
   "metadata": {},
   "outputs": [],
   "source": []
  }
 ],
 "metadata": {
  "kernelspec": {
   "display_name": "base",
   "language": "python",
   "name": "base"
  },
  "language_info": {
   "codemirror_mode": {
    "name": "ipython",
    "version": 3
   },
   "file_extension": ".py",
   "mimetype": "text/x-python",
   "name": "python",
   "nbconvert_exporter": "python",
   "pygments_lexer": "ipython3",
   "version": "3.7.6"
  }
 },
 "nbformat": 4,
 "nbformat_minor": 5
}
