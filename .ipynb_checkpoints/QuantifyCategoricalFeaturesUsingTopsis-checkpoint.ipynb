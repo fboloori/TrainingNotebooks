{
 "cells": [
  {
   "cell_type": "markdown",
   "id": "3e1bb28a",
   "metadata": {},
   "source": [
    "# Introduction To Topsis"
   ]
  },
  {
   "cell_type": "markdown",
   "id": "591aaf78",
   "metadata": {},
   "source": [
    "\n",
    "\n",
    "Topsis is a method for ranking some options due to some criteria .<br>\n",
    "For example suppose that we have some airline carriers (i.e. alternatives) which we want to rank them due to their number of airplanes, number of active routes, average dalay time , ... (i.e. criterias). As you know some criteria have negative effect in the rank of carriers and some other have positive effect. Let's see How TOPSIS can do this:<br><br>\n",
    "Suppose that you have $ \\mathbf{\\text{m alternatives VS n criteria}} $:<br>\n",
    "The value of each alternative in each criteria is given in the following matrix: <br>\n",
    "    $$ X=\\begin{bmatrix} \n",
    "    x_{11} & ... &x_{1j} & ...& x_{1n}\\\\\n",
    "    ...    & ... &...    & ...& ...   \\\\\n",
    "    x_{i1} & ... &x_{ij} & ...& x_{in} \\\\\n",
    "    ...    & ... &...    & ...& ...   \\\\\n",
    "    x_{m1} & ... &x_{mj} & ...& x_{mn}\n",
    "    \\end{bmatrix}  $$\n",
    "    \n"
   ]
  },
  {
   "cell_type": "markdown",
   "id": "720d4d6e-215d-4177-a87e-0061fa368753",
   "metadata": {},
   "source": [
    "1. Normalize the matrix be columns' norm2: <br>\n",
    "  Suppose that $X^{j}$ is $j$-th column of the matrix, corresponding to $j$-th criteria:\n",
    "$$ X=\n",
    "    \\begin{bmatrix} \n",
    "    X^{1} & ...& X^{j} & ...&  X^{n}\n",
    "    \\end{bmatrix}     \n",
    "$$\n",
    "We normalize each driteria column by deviding its elements to the norm of that column vector. A normalized matrix $\\mathbf{R}$ is constructed from it as follows:\n",
    "$$\n",
    "R=\\begin{bmatrix} \n",
    "    R^{1} & ...& R^{j} & ...&  R^{n}\n",
    "    \\end{bmatrix}  : R^{j}=\\frac{X^{j}}{||X^{j}||_{2}}\n",
    "$$\n",
    "In other words: $r_{ij}=\\frac{x_{ij}}{\\sqrt{\\sum \\limits_{k=1}^{m} {x_{kj}^2} }} \\equiv(  r_{ij}=\\frac{x_{ij}}{||X^{j}||_{2}})$\n",
    "\n",
    "\n",
    "\n",
    " "
   ]
  },
  {
   "cell_type": "markdown",
   "id": "804273a1-cc30-4bb7-ab7c-e247054a64cc",
   "metadata": {},
   "source": [
    "2. prepare Preference rates: <br>\n",
    "The decision maker has definded some preference weights for each criterion.\n",
    "suppose that ${ w_{j}}$ is the preference weight for criteria $j$. <br>\n",
    "The preference weights must be between 0 and 1 and they must sum up to 1. (Otherwise we must devide the vector elements by the vector's norm 2) such that the desired weights are obtained.\n",
    "Hence the weight vector $\\mathbf{w}$ is as follows:\n",
    "$$\n",
    "\\mathbf{w}=(\n",
    "w_{1}, ... , {w_{j}} , ..., w_{n}\n",
    ") : 0 \\le w_{j}\\le 1 , \\sum \\limits_{j=1}^{n} {w_{j} }=1\n",
    "$$\n"
   ]
  },
  {
   "cell_type": "markdown",
   "id": "77326a23-fb90-47ee-9d5c-2888fbe49fa7",
   "metadata": {},
   "source": [
    "3. Multiply column $j$ by their corresponding preference weights $w_{j}$.<br> \n",
    "Consider that $R^{j}$ is $j$-th column of thr matrix $\\mathbf{R}$.\n",
    "We multiplying each criteria's column in  $R^{j}$ to its preference weight $w_{j}$ and construct The weighted matrix $\\mathbf{T}$ as follows:<br>\n",
    "$$\n",
    "\\mathbf{T}=\\begin{bmatrix}\n",
    "w_{1}.R^{1}& ... & w_{j}.{R^{j}} & ...& w_{n}.R^{n}\n",
    "\\end{bmatrix} \n",
    "$$"
   ]
  },
  {
   "cell_type": "markdown",
   "id": "8f9fdfa9-6308-40b0-8c7a-e4963e56ed43",
   "metadata": {},
   "source": [
    "4. construct the best ideal and the worst ideal alternative points to be compared with our alternatives:<br>\n",
    "For each criterion we must determine the worst and best values and then by using them we can construct the best alternative $A_{best}$ and the worst alternative $A_{worst}$ to be compared with our alternatives. <br>\n",
    "In order to do so, first, we split our criterions in two parts: <br>\n",
    "    1. positive criterions' indexes which are shown by $ J_{+}$ <br>\n",
    "    2. positive criterions' indexes which are shown by$ J_{+}$ <br>\n",
    "$$ \n",
    "A_{worst}=(a_{j}^{w}) :\\space \\space a_{j}^{w}=\n",
    "\\begin{cases}\n",
    "       \\underset{i=1,2,\\ldots ,m}{\\max} (t_{ij}), & \\text{if }j\\in J_{-}  \\\\\n",
    "       \\underset{i=1,2,\\ldots ,m}{\\min} (t_{ij}), & \\text{if }j\\in J_{+} \\\\ \n",
    "\\end{cases}\n",
    "$$\n",
    "<br>\n",
    "$$ \n",
    "A_{best}=(a_{j}^{b}) :\\space \\space a_{j}^{b}=\n",
    "\\begin{cases}\n",
    "       \\underset{i=1,2,\\ldots ,m}{\\min} (t_{ij}), & \\text{if }j\\in J_{-}  \\\\\n",
    "       \\underset{i=1,2,\\ldots ,m}{\\max} (t_{ij}), & \\text{if }j\\in J_{+} \\\\ \n",
    "\\end{cases}\n",
    "$$\n",
    "<br>\n",
    "As we see the best ideal point i.e $A_{best}$ has the highest value in positive criterions and the most less value in the negative criterions, while the worst ideal point i.e $A_{worst}$ has the most less value in positive criterions and the highest value in the negative criterions.\n",
    " "
   ]
  },
  {
   "cell_type": "markdown",
   "id": "c5ba8535-c339-4b23-a9c6-10ab39565e2a",
   "metadata": {},
   "source": [
    "5. Calculate the distance for each of our alternetives due to these best and wrst ideal poits:<br>\n",
    "Suppose that $R_{i}$ is $i$-th row corresponding to our $i$-th alternative. The Euclidean distance between our alternative vector $R_{i}$  and the worst ideal alternative $A_{best}$ is denoted by $d_{i}^{best}$. Similarly, $d_{i}^{worst}$ is the Euclidean distance between our alternative vector $R_{i}$  and the best ideal alternative $A_{worst}$ :\n",
    "$$\n",
    "d_{i}^{worst}=||R_{i}-A_{worst}||_{2}=\\sqrt{\\sum \\limits_{j=1}^{n} {(r_{ij} -a_{j}^{b} )^2} }\n",
    "$$\n",
    "<br>\n",
    "$$\n",
    "d_{i}^{best}=||R_{i}-A_{best}||_{2}=\\sqrt{\\sum \\limits_{j=1}^{n} {(r_{ij} -a_{j}^{w} )^2} }\n",
    "$$\n"
   ]
  },
  {
   "cell_type": "markdown",
   "id": "37a308c2-0145-4341-900e-acbf29940503",
   "metadata": {},
   "source": [
    "6. Calculate the rank of alternatives:<br>\n",
    "Finally, the rank of $i$-th alternative is calculated by:<br>\n",
    "$$\n",
    "rank(i)=\\frac{d_{i}^{best}}{d_{i}^{best}+d_{i}^{worst}}\n",
    "$$\n"
   ]
  },
  {
   "cell_type": "markdown",
   "id": "25ca04cd-e3a5-4b6b-908a-4ef00081bd28",
   "metadata": {},
   "source": [
    " <div style=\"color:black;\n",
    "           display:fill;\n",
    "           border-radius:120px;\n",
    "           background-color:blue;\n",
    "           font-size:100%;\n",
    "           font-family:Verdana;\n",
    "           letter-spacing:0.5px\">\n",
    "\n",
    "<p style=\"padding: 20px;\n",
    "              color:white ;\">📌 Quantify categorical feature \"carriers\" using topsis:\n",
    "</p>\n",
    "</div>\n",
    "\n",
    "\n"
   ]
  },
  {
   "cell_type": "code",
   "execution_count": 9,
   "id": "45b122f9",
   "metadata": {},
   "outputs": [],
   "source": [
    "import numpy as np\n",
    "import pandas as pd\n",
    "import matplotlib.pyplot as plt \n",
    "import seaborn as sns\n",
    "from scipy import stats "
   ]
  },
  {
   "cell_type": "code",
   "execution_count": 2,
   "id": "3791e96e-9fb7-48c4-9ac7-77dec0f82f6e",
   "metadata": {},
   "outputs": [
    {
     "name": "stdout",
     "output_type": "stream",
     "text": [
      "Defaulting to user installation because normal site-packages is not writeable\n",
      "Requirement already satisfied: topsispy in c:\\users\\user\\appdata\\roaming\\python\\python310\\site-packages (0.0.1)\n",
      "Requirement already satisfied: numpy in c:\\programdata\\anaconda3\\lib\\site-packages (from topsispy) (1.23.5)\n"
     ]
    }
   ],
   "source": [
    "! pip install topsispy"
   ]
  },
  {
   "cell_type": "markdown",
   "id": "beacc785-f026-4224-90e1-62da3ecb9c28",
   "metadata": {},
   "source": [
    "<div style=\"color:black;\n",
    "           display:fill; \n",
    "           background-color:powderblue;\n",
    "           font-size:100%;\n",
    "           font-family:Verdana;\n",
    "           letter-spacing:0.5px\">\n",
    "\n",
    "<p style=\"padding: 20px;\n",
    "              color:black ;\"> In the following there is a dataframe in which contains the carriers information derived from the flights data set. In order to be simple we bring it here solely. If you are intersted to see how it is derived, please see the notebook in the following link: \n",
    "    <a href=\"https://www.kaggle.com/code/fatemehboloori/8-preprocessingflightsdata\">Preprocessing flights data</a>\n",
    "</p>\n",
    "    Here is the dataframe and its column:\n",
    "</div>"
   ]
  },
  {
   "cell_type": "code",
   "execution_count": 33,
   "id": "384c62cc-a7d3-4c87-b8e1-33d135a11cb9",
   "metadata": {},
   "outputs": [],
   "source": [
    " ranking_carriers=pd.read_csv(\"rankingCarriers.csv\")"
   ]
  },
  {
   "cell_type": "markdown",
   "id": "0629bb7c-c212-4b87-bcb7-f893959929d4",
   "metadata": {},
   "source": [
    "<div style=\"color:black;\n",
    "           display:fill; \n",
    "           background-color:powderblue;\n",
    "           font-size:100%;\n",
    "           font-family:Verdana;\n",
    "           letter-spacing:0.5px\">\n",
    "\n",
    "<p style=\"padding: 20px;\n",
    "              color:black ;\"> \n",
    "And Here is our carriers or alternatives:</p>    \n",
    "</div>\n"
   ]
  },
  {
   "cell_type": "code",
   "execution_count": 36,
   "id": "399d0d6f-9145-48ca-abc9-7cf5629eddc3",
   "metadata": {},
   "outputs": [
    {
     "name": "stdout",
     "output_type": "stream",
     "text": [
      "Alternative carriers: \n",
      "9E AA AS B6 DL EV F9 FL HA MQ OO UA US VX WN YV\n",
      "\n",
      "criterions' columns\n",
      "Unnamed: 0 carrier meanDepDelay meanArrDelay crashed canceled airPlanesCount meanSpeed activeRoutes flightsCount Flightsmileage\n"
     ]
    }
   ],
   "source": [
    "print(\"Alternative carriers: \")\n",
    "print(*ranking_carriers.carrier.unique())\n",
    "print()\n",
    "print(\"criterions' columns\")\n",
    "print(*ranking_carriers.columns)"
   ]
  },
  {
   "cell_type": "markdown",
   "id": "cc6a47eb-c225-4b3e-85c1-4f40ed809917",
   "metadata": {},
   "source": [
    "<div style=\"color:black;\n",
    "           display:fill; \n",
    "           background-color:powderblue;\n",
    "           font-size:100%;\n",
    "           font-family:Verdana;\n",
    "           letter-spacing:0.5px\">\n",
    "\n",
    "<p style=\"padding: 20px;\n",
    "              color:black ;\"> \n",
    "Here is the description of criterions in which we want to assess our carriers due to them:\n",
    "  <ul style=\"list-style-type: \">  \n",
    "    <li>   <b>Flightsmileage</b>: Carrier's total flights mileage (total distance of flights that are not canceled nor crashed)   </li> \n",
    "    <li>   <b>flightsCount</b>: Carrier's total Flight done (not canceled nor crashed)     </li>\n",
    "    <li>   <b>meanDepDelay</b>: Carrier's mean of departure delays over its whole flights  </li>\n",
    "    <li>   <b>meanArrDelay</b>: Carrier's mean of arrival delays over its whole flights  </li>\n",
    "    <li>   <b>crashed</b>: Carrier's total flights which are cancelled  </li>\n",
    "    <li>   <b>canceled</b>: Carrier's total flights which are crashed  </li>\n",
    "    <li>   <b>airPlanesCount</b>: Carrier's active airplanes number (nunique of tainums)  </li>\n",
    "    <li>   <b>meanSpeed</b>: Carrier's mean of flights' speed  </li>\n",
    "    <li>   <b>activeRoutes</b>: Carrier's active routes (nunique of tainums)  </li>\n",
    "    </ul>\n",
    " Depending on the importace of each criteria, a weigth is considered. The weights are sum up to 1. Also the positive effect or negative effect of each criteria is shown by 1 or -1 . In the following, these parameters are given to the model and the ranking of carriers are specified by the model: \n",
    "</p>    \n",
    "</div>\n"
   ]
  },
  {
   "cell_type": "code",
   "execution_count": 37,
   "id": "e37d4111-2464-4c82-b567-79fb5492d925",
   "metadata": {},
   "outputs": [],
   "source": [
    "weights_signs={  'meanDepDelay': [0.025, -1],\n",
    "                 'meanArrDelay': [0.025, -1],\n",
    "                 'crashed': [0.1,-1],\n",
    "                 'canceled':[0.05,-1],\n",
    "                 'airPlanesCount':[0.05 , 1],\n",
    "                 'meanSpeed':[0.05,1],\n",
    "                 'activeRoutes':[0.2, 1], \n",
    "                 'flightsCount': [0.20 , 1] ,\n",
    "                 'Flightsmileage': [0.30 , 1]\n",
    "              }"
   ]
  },
  {
   "cell_type": "markdown",
   "id": "ea957e37-9cd6-47cf-b60b-626154a3bb36",
   "metadata": {},
   "source": [
    "<div style=\"color:black;\n",
    "           display:fill; \n",
    "           background-color:powderblue;\n",
    "           font-size:100%;\n",
    "           font-family:Verdana;\n",
    "           letter-spacing:0.5px\">\n",
    "\n",
    "<p style=\"padding: 20px;\n",
    "              color:black ;\"> \n",
    "\"Topsispy\" is a library in python in which has implemented Topsis method. We use this library here for ranking carriers:   \n",
    "</p>    \n",
    "</div>\n"
   ]
  },
  {
   "cell_type": "code",
   "execution_count": 38,
   "id": "12d27d19-78ba-4397-ab9e-7d9ec46d1a33",
   "metadata": {},
   "outputs": [],
   "source": [
    "import topsispy as tp\n",
    "\n",
    "a = np.array(ranking_carriers[weights_signs.keys()]  ) \n",
    "w= [x[0] for x in list(weights_signs.values()) ]\n",
    "sign= [x[1] for x in list(weights_signs.values()) ] \n",
    "ranking_carriers['carrier_rank'] = tp.topsis(a, w, sign)[1]\n"
   ]
  },
  {
   "cell_type": "code",
   "execution_count": 39,
   "id": "79029a0d-59f2-4664-95ea-bf5c799d94fb",
   "metadata": {},
   "outputs": [
    {
     "data": {
      "image/png": "[encoded data removed]",
      "text/plain": [
       "<Figure size 640x480 with 1 Axes>"
      ]
     },
     "metadata": {},
     "output_type": "display_data"
    }
   ],
   "source": [
    "sns.barplot(data=ranking_carriers , x='carrier' , y='carrier_rank'  );\n",
    " "
   ]
  },
  {
   "cell_type": "code",
   "execution_count": 43,
   "id": "9a3fe25c-ff29-427a-bf56-395541e2a9ce",
   "metadata": {},
   "outputs": [
    {
     "name": "stdout",
     "output_type": "stream",
     "text": [
      "   carrier  carrier_rank\n",
      "0       9E      0.363682\n",
      "1       AA      0.477090\n",
      "2       AS      0.259894\n",
      "3       B6      0.666044\n",
      "4       DL      0.673855\n",
      "5       EV      0.506775\n",
      "6       F9      0.253624\n",
      "7       FL      0.252945\n",
      "8       HA      0.259123\n",
      "9       MQ      0.271631\n",
      "10      OO      0.254792\n",
      "11      UA      0.783993\n",
      "12      US      0.268508\n",
      "13      VX      0.287443\n",
      "14      WN      0.298756\n",
      "15      YV      0.250429\n",
      "\n",
      "number of unique ranks: 16\n"
     ]
    }
   ],
   "source": [
    "print(ranking_carriers[['carrier' , 'carrier_rank']] )\n",
    "print()\n",
    "print(f\"number of unique ranks: {ranking_carriers['carrier_rank'].nunique()}\")\n"
   ]
  },
  {
   "cell_type": "markdown",
   "id": "add0bd62-46cb-4c3c-9a80-28142dac564f",
   "metadata": {},
   "source": [
    "<div style=\"color:black;\n",
    "           display:fill; \n",
    "           background-color:powderblue;\n",
    "           font-size:100%;\n",
    "           font-family:Verdana;\n",
    "           letter-spacing:0.5px\">\n",
    "\n",
    "<p style=\"padding: 20px;\n",
    "              color:black ;\"> \n",
    "Since we have 16 distinct rank corresponding to 16 carriers, we can substitute categorical value of the carriers with their rank as its quantitive value. The following cell does this:\n",
    "</p>    \n",
    "</div>"
   ]
  }
 ],
 "metadata": {
  "kernelspec": {
   "display_name": "Python 3 (ipykernel)",
   "language": "python",
   "name": "python3"
  },
  "language_info": {
   "codemirror_mode": {
    "name": "ipython",
    "version": 3
   },
   "file_extension": ".py",
   "mimetype": "text/x-python",
   "name": "python",
   "nbconvert_exporter": "python",
   "pygments_lexer": "ipython3",
   "version": "3.10.9"
  }
 },
 "nbformat": 4,
 "nbformat_minor": 5
}
