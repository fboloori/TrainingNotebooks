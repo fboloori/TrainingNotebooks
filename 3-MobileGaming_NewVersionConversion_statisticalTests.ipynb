{
 "cells": [
  {
   "cell_type": "markdown",
   "id": "3e1bb28a",
   "metadata": {},
   "source": [
    "# Data Analysis for Mobile gaming"
   ]
  },
  {
   "cell_type": "markdown",
   "id": "591aaf78",
   "metadata": {},
   "source": [
    "Here we have a data set of mobile game. We see the first row of the dataset below:"
   ]
  },
  {
   "cell_type": "code",
   "execution_count": 1,
   "id": "45b122f9",
   "metadata": {},
   "outputs": [],
   "source": [
    "import numpy as np\n",
    "import pandas as pd\n",
    "import matplotlib.pyplot as plt \n",
    "from scipy import stats\n",
    "import seaborn as sns"
   ]
  },
  {
   "cell_type": "code",
   "execution_count": 2,
   "id": "04283dad",
   "metadata": {},
   "outputs": [
    {
     "name": "stdout",
     "output_type": "stream",
     "text": [
      "<class 'pandas.core.frame.DataFrame'>\n",
      "RangeIndex: 90189 entries, 0 to 90188\n",
      "Data columns (total 5 columns):\n",
      " #   Column          Non-Null Count  Dtype \n",
      "---  ------          --------------  ----- \n",
      " 0   userid          90189 non-null  int64 \n",
      " 1   version         90189 non-null  object\n",
      " 2   sum_gamerounds  90189 non-null  int64 \n",
      " 3   retention_1     90189 non-null  bool  \n",
      " 4   retention_7     90189 non-null  bool  \n",
      "dtypes: bool(2), int64(2), object(1)\n",
      "memory usage: 2.2+ MB\n"
     ]
    },
    {
     "data": {
      "text/html": [
       "<div>\n",
       "<style scoped>\n",
       "    .dataframe tbody tr th:only-of-type {\n",
       "        vertical-align: middle;\n",
       "    }\n",
       "\n",
       "    .dataframe tbody tr th {\n",
       "        vertical-align: top;\n",
       "    }\n",
       "\n",
       "    .dataframe thead th {\n",
       "        text-align: right;\n",
       "    }\n",
       "</style>\n",
       "<table border=\"1\" class=\"dataframe\">\n",
       "  <thead>\n",
       "    <tr style=\"text-align: right;\">\n",
       "      <th></th>\n",
       "      <th>userid</th>\n",
       "      <th>version</th>\n",
       "      <th>sum_gamerounds</th>\n",
       "      <th>retention_1</th>\n",
       "      <th>retention_7</th>\n",
       "    </tr>\n",
       "  </thead>\n",
       "  <tbody>\n",
       "    <tr>\n",
       "      <th>0</th>\n",
       "      <td>116</td>\n",
       "      <td>gate_30</td>\n",
       "      <td>3</td>\n",
       "      <td>False</td>\n",
       "      <td>False</td>\n",
       "    </tr>\n",
       "  </tbody>\n",
       "</table>\n",
       "</div>"
      ],
      "text/plain": [
       "   userid  version  sum_gamerounds  retention_1  retention_7\n",
       "0     116  gate_30               3        False        False"
      ]
     },
     "execution_count": 2,
     "metadata": {},
     "output_type": "execute_result"
    }
   ],
   "source": [
    "df=pd.read_csv('mibilegame.csv')\n",
    "df.info()\n",
    "df.head(1)"
   ]
  },
  {
   "cell_type": "code",
   "execution_count": 3,
   "id": "1ef11913",
   "metadata": {},
   "outputs": [
    {
     "data": {
      "text/plain": [
       "0"
      ]
     },
     "execution_count": 3,
     "metadata": {},
     "output_type": "execute_result"
    }
   ],
   "source": [
    "sum(df['userid'].duplicated())"
   ]
  },
  {
   "cell_type": "code",
   "execution_count": 4,
   "id": "29144331-7df8-400b-b62e-f7d483a36610",
   "metadata": {},
   "outputs": [
    {
     "data": {
      "text/plain": [
       "array(['gate_30', 'gate_40'], dtype=object)"
      ]
     },
     "execution_count": 4,
     "metadata": {},
     "output_type": "execute_result"
    }
   ],
   "source": [
    "df.version.unique()"
   ]
  },
  {
   "cell_type": "markdown",
   "id": "c43c1e8a",
   "metadata": {},
   "source": [
    "users which are in \"gate_40\" are those who had seen the advertisement of the new version. But the people in group \"gate_30\" did not see that.\n",
    "In the following they are labeled as \"df_ad\" and \"df_noAd\" respectively. \n",
    "The average of sum_gamerounds in each group shows that the advertisement had no positive effect on the engagement of the users: "
   ]
  },
  {
   "cell_type": "code",
   "execution_count": 9,
   "id": "8894bf1e",
   "metadata": {},
   "outputs": [
    {
     "name": "stdout",
     "output_type": "stream",
     "text": [
      "ad_mean   = 51.29877552814966\n",
      "noAd_mean = 52.45626398210291\n",
      "ad_mean - noAd_mean = -1.157488453953249\n"
     ]
    }
   ],
   "source": [
    "df_ad=df[df.version=='gate_40']\n",
    "df_noAd=df[df.version=='gate_30']\n",
    "ad_mean, noAd_mean = df_ad.sum_gamerounds.mean() , df_noAd.sum_gamerounds.mean()\n",
    "origional_mean_diff = df_ad.sum_gamerounds.mean() - df_noAd.sum_gamerounds.mean()\n",
    "print(f\"ad_mean   = {ad_mean}\")\n",
    "print(f\"noAd_mean = {noAd_mean}\")\n",
    "print(f\"ad_mean - noAd_mean = { origional_mean_diff}\")"
   ]
  },
  {
   "cell_type": "markdown",
   "id": "5d948464-b435-498d-bd7a-67a7c236226b",
   "metadata": {},
   "source": [
    "As stated above, advertisement did not increases the sum_gamerounds. Even we had decrease in sum_grounds in average.\n",
    "Therefore we obviously does not need to check wether advertisement was the reason for positive effect on sum_game_rounds or not (because it had not positive effect).\n",
    "\n"
   ]
  },
  {
   "cell_type": "markdown",
   "id": "d0751f91-0a9e-45f7-bd01-d538bc8f9d20",
   "metadata": {},
   "source": [
    "# More Investigations:\n",
    "We understood that advertisement had not positive effect on sum_game_rounds.\n",
    "But now, we want to check whether the decrease in sum_game_rounds is by chance or bad way of advertisements was the reaseon of this reduction in users' tendency.\n",
    "We implement this using 2 ways:  U-test way and  A/B testing simulation"
   ]
  },
  {
   "cell_type": "markdown",
   "id": "85ed83f2-4024-44b0-986e-a0ff4166991c",
   "metadata": {},
   "source": [
    "## statistical tests: U-test check\n",
    " We can check the causition either by T-test or U-test . \n",
    " For using T-test it is required that we check the distributions of our two groups (i.e. ad and naAd groups) follow the normal distribution or not. To check this out, we use Shapiro test:"
   ]
  },
  {
   "cell_type": "code",
   "execution_count": 6,
   "id": "b02fedf8-ca3a-4e09-9c75-43b0194094c7",
   "metadata": {},
   "outputs": [
    {
     "name": "stdout",
     "output_type": "stream",
     "text": [
      "The sum_gamerounds for users of either version gate_30 or gate_40 does not follow normal distribution. The T test cann not be done!\n"
     ]
    },
    {
     "name": "stderr",
     "output_type": "stream",
     "text": [
      "C:\\ProgramData\\anaconda3\\lib\\site-packages\\scipy\\stats\\_morestats.py:1816: UserWarning: p-value may not be accurate for N > 5000.\n",
      "  warnings.warn(\"p-value may not be accurate for N > 5000.\")\n"
     ]
    }
   ],
   "source": [
    "#plt.hist([df_noad.sum_gamerounds] , bins=50)\n",
    "shapiro_pval_ad_group=stats.shapiro(df_noAd.sum_gamerounds)[1]\n",
    "shapiro_pval_noAd_group=stats.shapiro(df_ad.sum_gamerounds)[1]\n",
    "if shapiro_pval_ad_group>0.05 and shapiro_pval_noAd_group>0.05  :\n",
    "    print( \"The sum_gamerounds for users of version gate_40 and gate_30 follow normal distribution. Ttest can be done!\")\n",
    "else:\n",
    "    print( \"The sum_gamerounds for users of either version gate_30 or gate_40 does not follow normal distribution. The T test can not be done!\")"
   ]
  },
  {
   "cell_type": "markdown",
   "id": "f56e3e59-bbe4-4f33-b75c-2a0ecfe225d0",
   "metadata": {},
   "source": [
    "As we saw the disributions are not normal and we cannot use T-test. So, the U-test is our choice and you can see the results:\n"
   ]
  },
  {
   "cell_type": "code",
   "execution_count": 8,
   "id": "5431b5a0",
   "metadata": {},
   "outputs": [
    {
     "name": "stdout",
     "output_type": "stream",
     "text": [
      "The u-test 's p_value is 0.025104403860221274 and confidence level is : 0.05. Hence: \n",
      "U-test confirms that bad advertisements tended to the reduction of sum_gamerounds\n"
     ]
    }
   ],
   "source": [
    "confidence_level=0.05\n",
    "u_stat, p_value = stats.mannwhitneyu(df_noAd['sum_gamerounds'] , df_ad['sum_gamerounds'] , alternative='greater')\n",
    "print (f\"The u-test 's p_value is {p_value} and confidence level is : {confidence_level}. Hence: \")\n",
    "if p_value < confidence_level:\n",
    "    print('U-test confirms that bad advertisements tended to the reduction of sum_gamerounds')\n",
    "else:\n",
    "    print(\"There is no evidence that sum_gamerounds' reduction is due to the bad advertisements.\")"
   ]
  },
  {
   "cell_type": "markdown",
   "id": "85355b7a-dd91-4a44-873b-248dba06dab6",
   "metadata": {},
   "source": [
    "## A/B test check"
   ]
  },
  {
   "cell_type": "code",
   "execution_count": 16,
   "id": "169d3833-c4e1-4447-a820-74133243558e",
   "metadata": {},
   "outputs": [
    {
     "name": "stdout",
     "output_type": "stream",
     "text": [
      "p_value = 0.2424. There is not enough evidences that confirm the bad advertisements was the reason for reduction in sum of game rounds\n"
     ]
    }
   ],
   "source": [
    "N=10000\n",
    "\n",
    "def sh_exp(N ,original_values  ):\n",
    "    len_total=len(df)\n",
    "    len_ad=len(df_ad)\n",
    "    len_noAd=len(df_noAd) \n",
    "    chancy_labeled_mean_diff = np.empty([N, 1])\n",
    "    for times in np.arange(N):\n",
    "        chancy_labels = np.random.choice([1,0], size=len_total,  p=[len_ad/len_total ,1-len_ad/len_total ])\n",
    "        chancy_labeled_data = np.array([\n",
    "            chancy_labels,\n",
    "            original_values\n",
    "            \n",
    "        ]).T\n",
    "        chancy_labeled_mean_ad   = chancy_labeled_data[chancy_labeled_data[:, 0] == 1][:, 1].mean()\n",
    "        chancy_labeled_mean_noAd = chancy_labeled_data[chancy_labeled_data[:, 0] == 0][:, 1].mean()\n",
    "        chancy_labeled_mean_diff[times] = chancy_labeled_mean_ad - chancy_labeled_mean_noAd\n",
    "    return chancy_labeled_mean_diff\n",
    "\n",
    "\n",
    "e=sh_exp(N , np.array(df.sum_gamerounds) )\n",
    "p_value = len(e [e <  origional_mean_diff]) / len(e)\n",
    "if p_value<confidence_level:\n",
    "    print(f'p_value = {p_value} implies Bad advertisements was the reason for reduction of sum of game rounds')\n",
    "else:\n",
    "    print(f\"p_value = {p_value}. There is not enough evidences that confirm the bad advertisements was the reason for reduction in sum of game rounds\")"
   ]
  },
  {
   "cell_type": "code",
   "execution_count": 17,
   "id": "bd9b1d3c-1bf2-4044-8391-c96da4bea466",
   "metadata": {},
   "outputs": [
    {
     "data": {
      "text/plain": [
       "<Axes: ylabel='Count'>"
      ]
     },
     "execution_count": 17,
     "metadata": {},
     "output_type": "execute_result"
    },
    {
     "data": {
      "image/png": "[encoded data removed]",
      "text/plain": [
       "<Figure size 640x480 with 1 Axes>"
      ]
     },
     "metadata": {},
     "output_type": "display_data"
    }
   ],
   "source": [
    "sns.histplot(e, bins=50)"
   ]
  },
  {
   "cell_type": "code",
   "execution_count": null,
   "id": "cd5a3774-c075-4810-8d3c-8777385c7dc0",
   "metadata": {},
   "outputs": [],
   "source": []
  }
 ],
 "metadata": {
  "kernelspec": {
   "display_name": "Python 3 (ipykernel)",
   "language": "python",
   "name": "python3"
  },
  "language_info": {
   "codemirror_mode": {
    "name": "ipython",
    "version": 3
   },
   "file_extension": ".py",
   "mimetype": "text/x-python",
   "name": "python",
   "nbconvert_exporter": "python",
   "pygments_lexer": "ipython3",
   "version": "3.10.9"
  }
 },
 "nbformat": 4,
 "nbformat_minor": 5
}
