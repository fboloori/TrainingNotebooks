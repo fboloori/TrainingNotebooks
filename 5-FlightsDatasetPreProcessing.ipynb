{
 "cells": [
  {
   "cell_type": "markdown",
   "id": "3e1bb28a",
   "metadata": {},
   "source": [
    "# Flights' data preprocessing \n",
    "\n"
   ]
  },
  {
   "cell_type": "markdown",
   "id": "591aaf78",
   "metadata": {},
   "source": [
    "Here we have a data set of flights:\n"
   ]
  },
  {
   "cell_type": "code",
   "execution_count": 1,
   "id": "45b122f9",
   "metadata": {},
   "outputs": [],
   "source": [
    "import numpy as np\n",
    "import pandas as pd\n",
    "import matplotlib.pyplot as plt \n",
    "import seaborn as sns\n",
    "from scipy import stats "
   ]
  },
  {
   "cell_type": "code",
   "execution_count": 2,
   "id": "3791e96e-9fb7-48c4-9ac7-77dec0f82f6e",
   "metadata": {},
   "outputs": [
    {
     "name": "stdout",
     "output_type": "stream",
     "text": [
      "Defaulting to user installation because normal site-packages is not writeable\n",
      "Requirement already satisfied: topsispy in c:\\users\\user\\appdata\\roaming\\python\\python310\\site-packages (0.0.1)\n",
      "Requirement already satisfied: numpy in c:\\programdata\\anaconda3\\lib\\site-packages (from topsispy) (1.23.5)\n"
     ]
    }
   ],
   "source": [
    "! pip install topsispy"
   ]
  },
  {
   "cell_type": "code",
   "execution_count": 2,
   "id": "04283dad",
   "metadata": {},
   "outputs": [
    {
     "name": "stdout",
     "output_type": "stream",
     "text": [
      "<class 'pandas.core.frame.DataFrame'>\n",
      "RangeIndex: 336776 entries, 0 to 336775\n",
      "Data columns (total 21 columns):\n",
      " #   Column          Non-Null Count   Dtype  \n",
      "---  ------          --------------   -----  \n",
      " 0   id              336776 non-null  int64  \n",
      " 1   year            336776 non-null  int64  \n",
      " 2   month           336776 non-null  int64  \n",
      " 3   day             336776 non-null  int64  \n",
      " 4   dep_time        328521 non-null  float64\n",
      " 5   sched_dep_time  336776 non-null  int64  \n",
      " 6   dep_delay       328521 non-null  float64\n",
      " 7   arr_time        328063 non-null  float64\n",
      " 8   sched_arr_time  336776 non-null  int64  \n",
      " 9   arr_delay       327346 non-null  float64\n",
      " 10  carrier         336776 non-null  object \n",
      " 11  flight          336776 non-null  int64  \n",
      " 12  tailnum         334264 non-null  object \n",
      " 13  origin          336776 non-null  object \n",
      " 14  dest            336776 non-null  object \n",
      " 15  air_time        327346 non-null  float64\n",
      " 16  distance        336776 non-null  int64  \n",
      " 17  hour            336776 non-null  int64  \n",
      " 18  minute          336776 non-null  int64  \n",
      " 19  time_hour       336776 non-null  object \n",
      " 20  name            336776 non-null  object \n",
      "dtypes: float64(5), int64(10), object(6)\n",
      "memory usage: 54.0+ MB\n"
     ]
    },
    {
     "data": {
      "text/html": [
       "<div>\n",
       "<style scoped>\n",
       "    .dataframe tbody tr th:only-of-type {\n",
       "        vertical-align: middle;\n",
       "    }\n",
       "\n",
       "    .dataframe tbody tr th {\n",
       "        vertical-align: top;\n",
       "    }\n",
       "\n",
       "    .dataframe thead th {\n",
       "        text-align: right;\n",
       "    }\n",
       "</style>\n",
       "<table border=\"1\" class=\"dataframe\">\n",
       "  <thead>\n",
       "    <tr style=\"text-align: right;\">\n",
       "      <th></th>\n",
       "      <th>id</th>\n",
       "      <th>year</th>\n",
       "      <th>month</th>\n",
       "      <th>day</th>\n",
       "      <th>dep_time</th>\n",
       "      <th>sched_dep_time</th>\n",
       "      <th>dep_delay</th>\n",
       "      <th>arr_time</th>\n",
       "      <th>sched_arr_time</th>\n",
       "      <th>arr_delay</th>\n",
       "      <th>...</th>\n",
       "      <th>flight</th>\n",
       "      <th>tailnum</th>\n",
       "      <th>origin</th>\n",
       "      <th>dest</th>\n",
       "      <th>air_time</th>\n",
       "      <th>distance</th>\n",
       "      <th>hour</th>\n",
       "      <th>minute</th>\n",
       "      <th>time_hour</th>\n",
       "      <th>name</th>\n",
       "    </tr>\n",
       "  </thead>\n",
       "  <tbody>\n",
       "    <tr>\n",
       "      <th>0</th>\n",
       "      <td>0</td>\n",
       "      <td>2013</td>\n",
       "      <td>1</td>\n",
       "      <td>1</td>\n",
       "      <td>517.0</td>\n",
       "      <td>515</td>\n",
       "      <td>2.0</td>\n",
       "      <td>830.0</td>\n",
       "      <td>819</td>\n",
       "      <td>11.0</td>\n",
       "      <td>...</td>\n",
       "      <td>1545</td>\n",
       "      <td>N14228</td>\n",
       "      <td>EWR</td>\n",
       "      <td>IAH</td>\n",
       "      <td>227.0</td>\n",
       "      <td>1400</td>\n",
       "      <td>5</td>\n",
       "      <td>15</td>\n",
       "      <td>2013-01-01 05:00:00</td>\n",
       "      <td>United Air Lines Inc.</td>\n",
       "    </tr>\n",
       "  </tbody>\n",
       "</table>\n",
       "<p>1 rows × 21 columns</p>\n",
       "</div>"
      ],
      "text/plain": [
       "   id  year  month  day  dep_time  sched_dep_time  dep_delay  arr_time  \\\n",
       "0   0  2013      1    1     517.0             515        2.0     830.0   \n",
       "\n",
       "   sched_arr_time  arr_delay  ... flight  tailnum origin dest air_time  \\\n",
       "0             819       11.0  ...   1545   N14228    EWR  IAH    227.0   \n",
       "\n",
       "   distance  hour  minute            time_hour                   name  \n",
       "0      1400     5      15  2013-01-01 05:00:00  United Air Lines Inc.  \n",
       "\n",
       "[1 rows x 21 columns]"
      ]
     },
     "execution_count": 2,
     "metadata": {},
     "output_type": "execute_result"
    }
   ],
   "source": [
    "flights=pd.read_csv('flights.csv')\n",
    "flights.info()\n",
    "flights.nunique()\n",
    "flights.head(1) "
   ]
  },
  {
   "cell_type": "code",
   "execution_count": 3,
   "id": "086c8041-19cb-4fe4-88d7-9c4ecde4a1ee",
   "metadata": {},
   "outputs": [],
   "source": [
    "try:\n",
    "    flights=flights.drop(['time_hour' , 'name'],axis=1)\n",
    "except:\n",
    "    pass"
   ]
  },
  {
   "cell_type": "markdown",
   "id": "b4066706-ad74-4c2c-9f60-3ef2bb8af11b",
   "metadata": {},
   "source": [
    " <div style=\"color:black;\n",
    "           display:fill;\n",
    "           border-radius:120px;\n",
    "           background-color:blue;\n",
    "           font-size:100%;\n",
    "           font-family:Verdana;\n",
    "           letter-spacing:0.5px\">\n",
    "\n",
    "<p style=\"padding: 20px;\n",
    "              color:white ;\">📌 Some required function for conversion of data types:\n",
    "\n",
    "</p>\n",
    "</div>\n"
   ]
  },
  {
   "cell_type": "code",
   "execution_count": 4,
   "id": "b265ea7a-2600-4991-8077-e8fa05599678",
   "metadata": {},
   "outputs": [],
   "source": [
    "from datetime import datetime\n",
    "def day_of_year(day, month):\n",
    "    date_str = f'{month}-1-2013'\n",
    "    date_obj = datetime.strptime(date_str, '%m-%d-%Y')\n",
    "    day_of_year = date_obj.timetuple().tm_yday + day - 1\n",
    "    return day_of_year\n",
    "\n",
    "\n",
    "def change_to_minute_of_day( hhmm):\n",
    "    mm=np.remainder(hhmm,100)\n",
    "    hh=(hhmm-mm)/100\n",
    "    return(60*hh+mm)\n",
    "\n",
    "def duration_minutes(starttime_inminutes,endtime_inminutes):\n",
    "    if endtime_inminutes<starttime_inminutes:\n",
    "        return(24*60-starttime_inminutes+endtime_inminutes)\n",
    "    else:\n",
    "        return(endtime_inminutes - starttime_inminutes)\n",
    "    \n",
    "def add_minutes( starttime_inminutes , duration_in_minutes):\n",
    "    t=starttime_inminutes+duration_in_minutes\n",
    "    if t<24*60:\n",
    "        return (t)\n",
    "    else:\n",
    "        return(t-24*60)\n",
    "        \n",
    "def subtract_minutes( endtime_inminutes , duration_in_minutes):\n",
    "    t=endtime_inminutes-duration_in_minutes\n",
    "    if t>0:\n",
    "        return (t)\n",
    "    else:\n",
    "        return(24*60+t)"
   ]
  },
  {
   "cell_type": "markdown",
   "id": "45b5f9f9-db2b-430e-8947-73874cc49937",
   "metadata": {},
   "source": [
    " <div style=\"color:black;\n",
    "           display:fill;\n",
    "           border-radius:120px;\n",
    "           background-color:blue;\n",
    "           font-size:100%;\n",
    "           font-family:Verdana;\n",
    "           letter-spacing:0.5px\">\n",
    "\n",
    "<p style=\"padding: 20px;\n",
    "              color:white ;\">📌 Organize the dates that flights are done:\n",
    "\n",
    "</p>\n",
    "</div>\n",
    "\n",
    "\n"
   ]
  },
  {
   "cell_type": "code",
   "execution_count": 5,
   "id": "0cc994ca-7a1a-4335-9f19-0ce2222fa9af",
   "metadata": {},
   "outputs": [
    {
     "name": "stdout",
     "output_type": "stream",
     "text": [
      "[2013]\n"
     ]
    }
   ],
   "source": [
    "\n",
    "print(flights.year.unique())\n",
    "try:\n",
    "    flights=flights.drop('year',axis=1) \n",
    "except:\n",
    "    pass\n",
    "\n",
    "flights['dayOfYear'] = flights.apply(lambda row: day_of_year(row['day'], row['month']), axis=1) \n"
   ]
  },
  {
   "cell_type": "markdown",
   "id": "07a43b43-7714-4896-911f-53e58bc94ade",
   "metadata": {},
   "source": [
    " <div style=\"color:black;\n",
    "           display:fill;\n",
    "           border-radius:120px;\n",
    "           background-color:blue;\n",
    "           font-size:100%;\n",
    "           font-family:Verdana;\n",
    "           letter-spacing:0.5px\">\n",
    "\n",
    "<p style=\"padding: 20px;\n",
    "              color:white ;\">📌 Investigation on arrival and departure and also air times:  \n",
    "</p>    \n",
    "</div>"
   ]
  },
  {
   "cell_type": "markdown",
   "id": "d761fc9a-4d69-40e1-a215-e76e159dcac9",
   "metadata": {},
   "source": [
    "<div style=\"color:black;\n",
    "           display:fill; \n",
    "           background-color:powderblue;\n",
    "           font-size:100%;\n",
    "           font-family:Verdana;\n",
    "           letter-spacing:0.5px\">\n",
    "\n",
    "<p style=\"padding: 20px;\n",
    "              color:black ;\"> \n",
    "First of all, the columns \"dep_time, sched_dep_time ,arr_time and sched_arr_time\",  seem to be integers. But they are stated in \"hhmm\" type in fact. Using \"change_to_minute_of_day\" function, we change them into valid integer types.\n",
    "We also have some rows that their 'arr_delay' are null and we should compute diff(arr_time, sched_arr_time) for them as much as possible.\n",
    "</p>    \n",
    "</div>"
   ]
  },
  {
   "cell_type": "code",
   "execution_count": 6,
   "id": "13fdf157-d8b9-4e41-9c4b-e7fd1c16f94c",
   "metadata": {},
   "outputs": [
    {
     "name": "stdout",
     "output_type": "stream",
     "text": [
      " Number of null dep_delays before calculation is 8255\n",
      " Number of null dep_delays after calculation is 8255 \n",
      "\n",
      " Number of null arr_delays before calculation is 9430\n",
      " Number of null arr_delays after calculation is 8713\n"
     ]
    }
   ],
   "source": [
    "df =flights\n",
    "df.dep_time =change_to_minute_of_day(df.dep_time)\n",
    "df.sched_dep_time = change_to_minute_of_day(df.sched_dep_time)\n",
    "df.arr_time =change_to_minute_of_day(df.arr_time)\n",
    "df.sched_arr_time = change_to_minute_of_day(df.sched_arr_time )\n",
    "\n",
    "print(f\" Number of null dep_delays before calculation is {len(df.loc[df.dep_delay.isnull()])}\") \n",
    "df.loc[df.dep_delay.isnull() , 'arr_delay']= df.apply ( lambda row: duration_minutes( row['sched_dep_time'] , row['dep_time']) , axis=1)\n",
    "print(f\" Number of null dep_delays after calculation is {len(df.loc[df.dep_delay.isnull()])} \\n\")\n",
    "\n",
    "print(f\" Number of null arr_delays before calculation is {len(df.loc[df.arr_delay.isnull()])}\")   \n",
    "df.loc[df.arr_delay.isnull() , 'arr_delay']= df.apply ( lambda row: duration_minutes( row['sched_arr_time'] , row['arr_time']) , axis=1)\n",
    "print(f\" Number of null arr_delays after calculation is {len(df.loc[df.arr_delay.isnull()])}\")   \n"
   ]
  },
  {
   "cell_type": "markdown",
   "id": "f12eca15-5382-4088-b32d-6c148e0c4f6c",
   "metadata": {},
   "source": [
    "<div style=\"color:black;\n",
    "           display:fill; \n",
    "           background-color:powderblue;\n",
    "           font-size:100%;\n",
    "           font-family:Verdana;\n",
    "           letter-spacing:0.5px\">\n",
    "\n",
    "<p style=\"padding: 20px;\n",
    "              color:black ;\"> \n",
    "There are some null values in 'air_time' , 'dep_time' and 'arr_time' columns. We considered 4 categories of Null types and describe how to face with them :\n",
    "    <table>\n",
    "            <tr>\n",
    "                <td> \n",
    "                    <ul>\n",
    "                    <li> dep✔️_arr✔️_air❌ </li>\n",
    "                    <li> dep✔️_arr❌_air✔️</li>\n",
    "                    <li> dep❌_arr✔️_air✔️ </li>\n",
    "                    </ul>\n",
    "                </td>\n",
    "                <td> Missing value </td>\n",
    "                <td> Must be filled logically: e.g. in the first case: air_time= diff('arr_time' , 'dep_time')</td>\n",
    "                <td>  </td> \n",
    "            </tr> \n",
    "            <tr>\n",
    "                <td> <li> dep✔️_arr❌_air❌ </li> </td>\n",
    "                <td> Cashed flight or a flight with technical problems</td>\n",
    "                <td> The approach is NOT to fill any values. </td>\n",
    "                <td>   </td> \n",
    "            </tr>\n",
    "            <tr>\n",
    "                <td> <li>dep❌_arr❌_air❌</li></td>\n",
    "                <td> Canceled flight  </td>\n",
    "                <td> The approach is NOT to fill any values </td>\n",
    "                <td>  </td>  \n",
    "            </tr>\n",
    "            <tr>\n",
    "                <td> \n",
    "                    <ul>\n",
    "                     <li> dep❌_arr✔️_air❌</li> \n",
    "                     <li> dep❌_arr❌_air✔️</li>\n",
    "                    </ul>\n",
    "                </td>\n",
    "                <td> Missing values   </td>\n",
    "                <td> Must be filled huristcally by sklearn imputers. </td> \n",
    "                <td>   </td> \n",
    "            </tr>\n",
    "</table>\n",
    "    \n",
    "    \n",
    "Based on the above table, we chack all the cases in the following:\n",
    "</p>    \n",
    "</div>"
   ]
  },
  {
   "cell_type": "markdown",
   "id": "563df7f3-38a8-4be7-99a8-553be2e9bf1f",
   "metadata": {},
   "source": [
    "<div style=\"color:black;\n",
    "           display:fill; \n",
    "           background-color:powderblue;\n",
    "           font-size:100%;\n",
    "           font-family:Verdana;\n",
    "           letter-spacing:0.5px\">\n",
    "\n",
    "<p style=\"padding: 20px;\n",
    "              color:black ;\"> \n",
    "First, check if we can get the null data of columns 'air_time' , 'dep_time' and 'arr_time' from each other.\n",
    "</p>    \n",
    "</div>"
   ]
  },
  {
   "cell_type": "code",
   "execution_count": 7,
   "id": "85d8a8e0-a0b9-4cc9-9570-cfe133d5e642",
   "metadata": {},
   "outputs": [
    {
     "name": "stdout",
     "output_type": "stream",
     "text": [
      "Currently we have 336776 records totally.\n",
      "Number of null air_times before calculation is 9430\n",
      "Number of null air_times after calculation is :8713\n",
      "Number of null dep_times before calculation : 8255\n",
      "Number of null dep_times after calculation : 8255\n",
      "Number of null arr_times before calculation : 8713\n",
      "Number of null arr_times after calculation : 8713\n"
     ]
    }
   ],
   "source": [
    "print(f\"Currently we have {len(df)} records totally.\") \n",
    "print(f\"Number of null air_times before calculation is {len(df.loc[df.air_time.isnull()])}\")\n",
    "df.loc[df.air_time.isnull()& df.dep_time.notnull() & df.arr_time.notnull() , 'air_time'] = \\\n",
    "            df.apply( lambda row: duration_minutes( row['dep_time'] , row['arr_time']) , axis=1 )\n",
    "print(f\"Number of null air_times after calculation is :{len(df[df.air_time.isnull()])}\")\n",
    "\n",
    "print( f\"Number of null dep_times before calculation : {len(df[df.dep_time.isnull()])}\") \n",
    "df.loc[df.dep_time.isnull() & df.air_time.notnull() & df.arr_time.notnull() , 'dep_time' ]=\\\n",
    "             df.apply( lambda row: subtract_minutes(row['arr_time'] , row['air_time'])  , axis=1 )\n",
    "print( f\"Number of null dep_times after calculation : {len(df[df.dep_time.isnull()])}\")\n",
    "\n",
    "\n",
    "print( f\"Number of null arr_times before calculation : {len(df[df.arr_time.isnull()])}\" )\n",
    "df.loc[df.arr_time.isnull() & df.air_time.notnull() & df.dep_time.notnull() , 'arr_time'] = \\\n",
    "             df.apply( lambda row:  add_minutes(row['dep_time'] , row['air_time']) , axis=1 )\n",
    "print( f\"Number of null arr_times after calculation : {len(df[df.arr_time.isnull()])}\" )"
   ]
  },
  {
   "cell_type": "code",
   "execution_count": 8,
   "id": "717df9ab-96fd-4d05-9bcb-a616343ecbe9",
   "metadata": {},
   "outputs": [
    {
     "name": "stdout",
     "output_type": "stream",
     "text": [
      "Total records: 336776\n"
     ]
    }
   ],
   "source": [
    "print(f\"Total records: {len(df)}\")  "
   ]
  },
  {
   "cell_type": "markdown",
   "id": "d2b19d28-850a-4a11-b20c-e501c807fbd1",
   "metadata": {},
   "source": [
    "<div style=\"color:black;\n",
    "           display:fill; \n",
    "           background-color:powderblue;\n",
    "           font-size:100%;\n",
    "           font-family:Verdana;\n",
    "           letter-spacing:0.5px\">\n",
    "\n",
    "<p style=\"padding: 20px;\n",
    "              color:black ;\"> After filling missing 'air_time' values,  let' define an extra useful column \"speed\" for the flights:\n",
    "</p>    \n",
    "</div>"
   ]
  },
  {
   "cell_type": "code",
   "execution_count": 9,
   "id": "f14500c2-5486-460e-b2e3-c2ebda0d5413",
   "metadata": {},
   "outputs": [],
   "source": [
    "\n",
    "flights['speed']= flights.distance / flights.air_time\n",
    "#flights['day_of_week'] = pd.to_datetime(flights[['year', 'month', 'day']]).dt.day_name() \n",
    "#avg_delay_by_day = flights.groupby('day_of_week')[['arr_delay' , 'dep_delay']].mean()"
   ]
  },
  {
   "cell_type": "markdown",
   "id": "89853940-03e3-4991-a069-3e5a6a216057",
   "metadata": {},
   "source": [
    " <div style=\"color:black;\n",
    "           display:fill;\n",
    "           border-radius:120px;\n",
    "           background-color:blue;\n",
    "           font-size:100%;\n",
    "           font-family:Verdana;\n",
    "           letter-spacing:0.5px\">\n",
    "\n",
    "<p style=\"padding: 20px;\n",
    "              color:white ;\">📌 Canceled or crashed flights:  \n",
    "</p>    \n",
    "</div> "
   ]
  },
  {
   "cell_type": "markdown",
   "id": "6c95ed05-56f0-4558-82da-61dccc3ed248",
   "metadata": {},
   "source": [
    "<div style=\"color:black;\n",
    "           display:fill; \n",
    "           background-color:powderblue;\n",
    "           font-size:100%;\n",
    "           font-family:Verdana;\n",
    "           letter-spacing:0.5px\">\n",
    "\n",
    "<p style=\"padding: 20px;\n",
    "              color:black ;\"> Due to the following cell, for all the flights which are not departured, we have no value for their 'arr_time' and 'air_time' in our data set. So, we can conclude that if there is a flight which is not departured, that' s a cancelled flight.\n",
    "</p>    \n",
    "</div>"
   ]
  },
  {
   "cell_type": "code",
   "execution_count": 10,
   "id": "eb420399-d243-4938-80d3-f0c9a0f444bc",
   "metadata": {},
   "outputs": [
    {
     "name": "stdout",
     "output_type": "stream",
     "text": [
      "8255 8255\n"
     ]
    }
   ],
   "source": [
    "canceled = df.loc[df.dep_time.isnull()& df.air_time.isnull() & df.arr_time.isnull() ] \n",
    "dep_nulls= df.loc[df.dep_time.isnull()]  \n",
    "\n",
    "print( len(canceled) , len(dep_nulls)  )\n"
   ]
  },
  {
   "cell_type": "markdown",
   "id": "4c7635fb-9db8-4fb0-b986-3730eeea01b9",
   "metadata": {},
   "source": [
    "<div style=\"color:black;\n",
    "           display:fill; \n",
    "           background-color:powderblue;\n",
    "           font-size:100%;\n",
    "           font-family:Verdana;\n",
    "           letter-spacing:0.5px\">\n",
    "\n",
    "<p style=\"padding: 20px;\n",
    "              color:black ;\"> We also have some flights that are departured, but they are not arrived (i.e. their arr_time and air_time values are null). \n",
    "Hence, we can conclude that those flights are crashed or they had technical problems and they came back after departure. Due to the following cell, we have 458 crashed flights.\n",
    "</p>    \n",
    "</div>"
   ]
  },
  {
   "cell_type": "code",
   "execution_count": 11,
   "id": "99b941ea-ec0e-4a21-82cb-7a27a537695f",
   "metadata": {},
   "outputs": [
    {
     "name": "stdout",
     "output_type": "stream",
     "text": [
      "458\n"
     ]
    }
   ],
   "source": [
    "departured=df.loc[df.dep_time.notnull()] \n",
    "crashed=departured.loc[departured.arr_time.isnull() & departured.air_time.isnull()]  \n",
    "print(  len(crashed  )   )"
   ]
  },
  {
   "cell_type": "markdown",
   "id": "b304eccb-1668-4c61-9991-ffd51dc44146",
   "metadata": {},
   "source": [
    "<div style=\"color:black;\n",
    "           display:fill; \n",
    "           background-color:pink;\n",
    "           font-size:100%;\n",
    "           font-family:Verdana;\n",
    "           letter-spacing:0.5px\">\n",
    "\n",
    "<p style=\"padding: 20px;\n",
    "              color:black ;\"> \n",
    "According to the table we mentioned previusly, there is no other case of Nulls in our columns dep_time, arr_time  or air_time . All nulls in these columns were filled logically or they were due to canceled or crashed flights which should not be filled. \n",
    "\n",
    "</p>    \n",
    "</div>"
   ]
  },
  {
   "cell_type": "markdown",
   "id": "7ae08bc5-849b-4f7e-8483-5613d72c128d",
   "metadata": {},
   "source": [
    "<div style=\"color:black;\n",
    "           display:fill; \n",
    "           background-color:powderblue;\n",
    "           font-size:100%;\n",
    "           font-family:Verdana;\n",
    "           letter-spacing:0.5px\">\n",
    "\n",
    "<p style=\"padding: 20px;\n",
    "              color:black ;\">   \n",
    "   Now, let's define binary columns 'canceled' and 'crashed' indicating the status of the flights:\n",
    "</p>    \n",
    "</div>"
   ]
  },
  {
   "cell_type": "code",
   "execution_count": 12,
   "id": "9b782a95-4c99-46a0-a4bc-c8dccd5a42b0",
   "metadata": {},
   "outputs": [],
   "source": [
    "df['canceled'] =0\n",
    "df['crashed'] = 0 \n",
    "#cancelled flights:\n",
    "df.loc[df.dep_time.isnull() , 'canceled']=1 \n",
    "#crashed flights:\n",
    "df.loc[df.dep_time.notnull() & df.arr_time.isnull() , 'crashed']=1   "
   ]
  },
  {
   "cell_type": "markdown",
   "id": "fc977e53-67a8-4067-a491-9153e1eeaeb4",
   "metadata": {
    "tags": []
   },
   "source": [
    ".\n",
    "\n",
    "\n",
    "\n",
    "# Dealing with Categoical features:\n",
    "\n",
    "\n",
    "\n",
    "."
   ]
  },
  {
   "cell_type": "markdown",
   "id": "49b83e4c-779f-4b39-98a2-87f1a0ccacfb",
   "metadata": {},
   "source": [
    " <div style=\"color:black;\n",
    "           display:fill;\n",
    "           border-radius:120px;\n",
    "           background-color:blue;\n",
    "           font-size:120%;\n",
    "           font-family:Verdana;\n",
    "           letter-spacing:0.5px\">\n",
    "\n",
    "<p style=\"padding: 20px;\n",
    "          color:white ;\">📌<b> Ranking categorical feature 'carrier' using \"TOPSIS\" method</b>: \n",
    "</p>    \n",
    "</div> "
   ]
  },
  {
   "cell_type": "markdown",
   "id": "cc6a47eb-c225-4b3e-85c1-4f40ed809917",
   "metadata": {},
   "source": [
    "<div style=\"color:black;\n",
    "           display:fill; \n",
    "           background-color:powderblue;\n",
    "           font-size:100%;\n",
    "           font-family:Verdana;\n",
    "           letter-spacing:0.5px\">\n",
    "\n",
    "<p style=\"padding: 20px;\n",
    "              color:black ;\"> \n",
    "First, we gather some criterions in which we want to assess our carriers due to them. In the following we considered these criterions for each carrier: \n",
    "  <ul style=\"list-style-type: \">  \n",
    "    <li>   <b>Flightsmileage</b>: Carrier's total flights mileage (total distance of flights that are not canceled nor crashed)   </li> \n",
    "    <li>   <b>flightsCount</b>: Carrier's total Flight done (not canceled nor crashed)     </li>\n",
    "    <li>   <b>meanDepDelay</b>: Carrier's mean of departure delays over its whole flights  </li>\n",
    "    <li>   <b>meanArrDelay</b>: Carrier's mean of arrival delays over its whole flights  </li>\n",
    "    <li>   <b>crashed</b>: Carrier's total flights which are cancelled  </li>\n",
    "    <li>   <b>canceled</b>: Carrier's total flights which are crashed  </li>\n",
    "    <li>   <b>airPlanesCount</b>: Carrier's active airplanes number (nunique of tainums)  </li>\n",
    "    <li>   <b>meanSpeed</b>: Carrier's mean of flights' speed  </li>\n",
    "    <li>   <b>activeRoutes</b>: Carrier's active routes (nunique of tainums)  </li>\n",
    "    </ul>\n",
    "The criterions' values are computed as follows: \n",
    "</p>    \n",
    "</div>\n"
   ]
  },
  {
   "cell_type": "code",
   "execution_count": 13,
   "id": "384c62cc-a7d3-4c87-b8e1-33d135a11cb9",
   "metadata": {},
   "outputs": [
    {
     "name": "stdout",
     "output_type": "stream",
     "text": [
      "224\n"
     ]
    },
    {
     "data": {
      "text/html": [
       "<div>\n",
       "<style scoped>\n",
       "    .dataframe tbody tr th:only-of-type {\n",
       "        vertical-align: middle;\n",
       "    }\n",
       "\n",
       "    .dataframe tbody tr th {\n",
       "        vertical-align: top;\n",
       "    }\n",
       "\n",
       "    .dataframe thead th {\n",
       "        text-align: right;\n",
       "    }\n",
       "</style>\n",
       "<table border=\"1\" class=\"dataframe\">\n",
       "  <thead>\n",
       "    <tr style=\"text-align: right;\">\n",
       "      <th></th>\n",
       "      <th>carrier</th>\n",
       "      <th>meanDepDelay</th>\n",
       "      <th>meanArrDelay</th>\n",
       "      <th>crashed</th>\n",
       "      <th>canceled</th>\n",
       "      <th>airPlanesCount</th>\n",
       "      <th>meanSpeed</th>\n",
       "      <th>activeRoutes</th>\n",
       "      <th>flightsCount</th>\n",
       "      <th>Flightsmileage</th>\n",
       "    </tr>\n",
       "  </thead>\n",
       "  <tbody>\n",
       "    <tr>\n",
       "      <th>0</th>\n",
       "      <td>9E</td>\n",
       "      <td>16.725769</td>\n",
       "      <td>7.738195</td>\n",
       "      <td>1044</td>\n",
       "      <td>71</td>\n",
       "      <td>203</td>\n",
       "      <td>5.752548</td>\n",
       "      <td>77</td>\n",
       "      <td>17345</td>\n",
       "      <td>9222844</td>\n",
       "    </tr>\n",
       "    <tr>\n",
       "      <th>1</th>\n",
       "      <td>AA</td>\n",
       "      <td>8.586016</td>\n",
       "      <td>0.926885</td>\n",
       "      <td>636</td>\n",
       "      <td>34</td>\n",
       "      <td>600</td>\n",
       "      <td>6.948319</td>\n",
       "      <td>25</td>\n",
       "      <td>32059</td>\n",
       "      <td>43064382</td>\n",
       "    </tr>\n",
       "    <tr>\n",
       "      <th>2</th>\n",
       "      <td>AS</td>\n",
       "      <td>5.804775</td>\n",
       "      <td>-9.596910</td>\n",
       "      <td>2</td>\n",
       "      <td>0</td>\n",
       "      <td>84</td>\n",
       "      <td>7.407653</td>\n",
       "      <td>1</td>\n",
       "      <td>712</td>\n",
       "      <td>1710224</td>\n",
       "    </tr>\n",
       "    <tr>\n",
       "      <th>3</th>\n",
       "      <td>B6</td>\n",
       "      <td>13.022522</td>\n",
       "      <td>9.759167</td>\n",
       "      <td>466</td>\n",
       "      <td>32</td>\n",
       "      <td>193</td>\n",
       "      <td>6.661705</td>\n",
       "      <td>55</td>\n",
       "      <td>54137</td>\n",
       "      <td>57933040</td>\n",
       "    </tr>\n",
       "    <tr>\n",
       "      <th>4</th>\n",
       "      <td>DL</td>\n",
       "      <td>9.264505</td>\n",
       "      <td>1.986177</td>\n",
       "      <td>349</td>\n",
       "      <td>15</td>\n",
       "      <td>629</td>\n",
       "      <td>6.969535</td>\n",
       "      <td>55</td>\n",
       "      <td>47746</td>\n",
       "      <td>59119893</td>\n",
       "    </tr>\n",
       "    <tr>\n",
       "      <th>5</th>\n",
       "      <td>EV</td>\n",
       "      <td>19.955390</td>\n",
       "      <td>16.221888</td>\n",
       "      <td>2817</td>\n",
       "      <td>105</td>\n",
       "      <td>316</td>\n",
       "      <td>6.040625</td>\n",
       "      <td>102</td>\n",
       "      <td>51251</td>\n",
       "      <td>28870410</td>\n",
       "    </tr>\n",
       "    <tr>\n",
       "      <th>6</th>\n",
       "      <td>F9</td>\n",
       "      <td>20.215543</td>\n",
       "      <td>21.920705</td>\n",
       "      <td>3</td>\n",
       "      <td>1</td>\n",
       "      <td>25</td>\n",
       "      <td>7.086202</td>\n",
       "      <td>1</td>\n",
       "      <td>681</td>\n",
       "      <td>1103220</td>\n",
       "    </tr>\n",
       "    <tr>\n",
       "      <th>7</th>\n",
       "      <td>FL</td>\n",
       "      <td>18.726075</td>\n",
       "      <td>20.488526</td>\n",
       "      <td>73</td>\n",
       "      <td>6</td>\n",
       "      <td>129</td>\n",
       "      <td>6.564735</td>\n",
       "      <td>3</td>\n",
       "      <td>3181</td>\n",
       "      <td>2115272</td>\n",
       "    </tr>\n",
       "    <tr>\n",
       "      <th>8</th>\n",
       "      <td>HA</td>\n",
       "      <td>4.900585</td>\n",
       "      <td>-6.915205</td>\n",
       "      <td>0</td>\n",
       "      <td>0</td>\n",
       "      <td>14</td>\n",
       "      <td>8.005962</td>\n",
       "      <td>1</td>\n",
       "      <td>342</td>\n",
       "      <td>1704186</td>\n",
       "    </tr>\n",
       "    <tr>\n",
       "      <th>9</th>\n",
       "      <td>MQ</td>\n",
       "      <td>10.552041</td>\n",
       "      <td>11.066757</td>\n",
       "      <td>1234</td>\n",
       "      <td>87</td>\n",
       "      <td>237</td>\n",
       "      <td>6.134701</td>\n",
       "      <td>24</td>\n",
       "      <td>25076</td>\n",
       "      <td>14307664</td>\n",
       "    </tr>\n",
       "    <tr>\n",
       "      <th>10</th>\n",
       "      <td>OO</td>\n",
       "      <td>12.586207</td>\n",
       "      <td>11.931034</td>\n",
       "      <td>3</td>\n",
       "      <td>0</td>\n",
       "      <td>28</td>\n",
       "      <td>6.105335</td>\n",
       "      <td>5</td>\n",
       "      <td>29</td>\n",
       "      <td>14769</td>\n",
       "    </tr>\n",
       "    <tr>\n",
       "      <th>11</th>\n",
       "      <td>UA</td>\n",
       "      <td>12.106073</td>\n",
       "      <td>3.945801</td>\n",
       "      <td>686</td>\n",
       "      <td>63</td>\n",
       "      <td>620</td>\n",
       "      <td>7.011803</td>\n",
       "      <td>53</td>\n",
       "      <td>57916</td>\n",
       "      <td>88725551</td>\n",
       "    </tr>\n",
       "    <tr>\n",
       "      <th>12</th>\n",
       "      <td>US</td>\n",
       "      <td>3.782418</td>\n",
       "      <td>2.260558</td>\n",
       "      <td>663</td>\n",
       "      <td>31</td>\n",
       "      <td>289</td>\n",
       "      <td>5.696753</td>\n",
       "      <td>10</td>\n",
       "      <td>19842</td>\n",
       "      <td>11127314</td>\n",
       "    </tr>\n",
       "    <tr>\n",
       "      <th>13</th>\n",
       "      <td>VX</td>\n",
       "      <td>12.869421</td>\n",
       "      <td>2.146479</td>\n",
       "      <td>31</td>\n",
       "      <td>4</td>\n",
       "      <td>53</td>\n",
       "      <td>7.435839</td>\n",
       "      <td>7</td>\n",
       "      <td>5127</td>\n",
       "      <td>12815036</td>\n",
       "    </tr>\n",
       "    <tr>\n",
       "      <th>14</th>\n",
       "      <td>WN</td>\n",
       "      <td>17.711744</td>\n",
       "      <td>10.050352</td>\n",
       "      <td>192</td>\n",
       "      <td>8</td>\n",
       "      <td>582</td>\n",
       "      <td>6.669803</td>\n",
       "      <td>17</td>\n",
       "      <td>12075</td>\n",
       "      <td>12042607</td>\n",
       "    </tr>\n",
       "    <tr>\n",
       "      <th>15</th>\n",
       "      <td>YV</td>\n",
       "      <td>18.996330</td>\n",
       "      <td>15.556985</td>\n",
       "      <td>56</td>\n",
       "      <td>1</td>\n",
       "      <td>58</td>\n",
       "      <td>5.532833</td>\n",
       "      <td>3</td>\n",
       "      <td>544</td>\n",
       "      <td>204782</td>\n",
       "    </tr>\n",
       "  </tbody>\n",
       "</table>\n",
       "</div>"
      ],
      "text/plain": [
       "   carrier  meanDepDelay  meanArrDelay  crashed  canceled  airPlanesCount  \\\n",
       "0       9E     16.725769      7.738195     1044        71             203   \n",
       "1       AA      8.586016      0.926885      636        34             600   \n",
       "2       AS      5.804775     -9.596910        2         0              84   \n",
       "3       B6     13.022522      9.759167      466        32             193   \n",
       "4       DL      9.264505      1.986177      349        15             629   \n",
       "5       EV     19.955390     16.221888     2817       105             316   \n",
       "6       F9     20.215543     21.920705        3         1              25   \n",
       "7       FL     18.726075     20.488526       73         6             129   \n",
       "8       HA      4.900585     -6.915205        0         0              14   \n",
       "9       MQ     10.552041     11.066757     1234        87             237   \n",
       "10      OO     12.586207     11.931034        3         0              28   \n",
       "11      UA     12.106073      3.945801      686        63             620   \n",
       "12      US      3.782418      2.260558      663        31             289   \n",
       "13      VX     12.869421      2.146479       31         4              53   \n",
       "14      WN     17.711744     10.050352      192         8             582   \n",
       "15      YV     18.996330     15.556985       56         1              58   \n",
       "\n",
       "    meanSpeed  activeRoutes  flightsCount  Flightsmileage  \n",
       "0    5.752548            77         17345         9222844  \n",
       "1    6.948319            25         32059        43064382  \n",
       "2    7.407653             1           712         1710224  \n",
       "3    6.661705            55         54137        57933040  \n",
       "4    6.969535            55         47746        59119893  \n",
       "5    6.040625           102         51251        28870410  \n",
       "6    7.086202             1           681         1103220  \n",
       "7    6.564735             3          3181         2115272  \n",
       "8    8.005962             1           342         1704186  \n",
       "9    6.134701            24         25076        14307664  \n",
       "10   6.105335             5            29           14769  \n",
       "11   7.011803            53         57916        88725551  \n",
       "12   5.696753            10         19842        11127314  \n",
       "13   7.435839             7          5127        12815036  \n",
       "14   6.669803            17         12075        12042607  \n",
       "15   5.532833             3           544          204782  "
      ]
     },
     "execution_count": 13,
     "metadata": {},
     "output_type": "execute_result"
    }
   ],
   "source": [
    "df['routes'] = df['origin'] + ' - ' + df['dest']\n",
    "print(df.routes.nunique())\n",
    "\n",
    "#print(df.loc[(df.crashed==0) & (df.canceled==0)])\n",
    "ranking_carriers=df.groupby('carrier').agg({ \n",
    "                                            'dep_delay':'mean', \n",
    "                                            'arr_delay':'mean' ,\n",
    "                                            'canceled':'sum' ,\n",
    "                                            'crashed': 'sum',\n",
    "                                            'tailnum':'nunique' ,\n",
    "                                            'speed':'mean' , \n",
    "                                            'routes':'nunique'\n",
    "                                           }) \n",
    "\n",
    "ranking_carriers['flightsCount'] = df.loc[(df.crashed==0) & (df.canceled==0)].groupby('carrier')['id'].count()\n",
    "ranking_carriers['Flightsmileage'] = df.loc[(df.crashed==0) & (df.canceled==0)].groupby('carrier')['distance'].sum()\n",
    "\n",
    "ranking_carriers .columns=[ 'meanDepDelay' , 'meanArrDelay' , 'crashed' ,'canceled' , 'airPlanesCount' , 'meanSpeed' , 'activeRoutes', 'flightsCount' ,  'Flightsmileage']\n",
    "ranking_carriers = ranking_carriers.reset_index().rename(columns={'index': 'id'})\n",
    "ranking_carriers\n"
   ]
  },
  {
   "cell_type": "markdown",
   "id": "beacc785-f026-4224-90e1-62da3ecb9c28",
   "metadata": {},
   "source": [
    "<div style=\"color:black;\n",
    "           display:fill; \n",
    "           background-color:powderblue;\n",
    "           font-size:100%;\n",
    "           font-family:Verdana;\n",
    "           letter-spacing:0.5px\">\n",
    "\n",
    "<p style=\"padding: 20px;\n",
    "              color:black ;\"> \n",
    "TOPSIS, known as Technique for Order of Preference by Similarity to Ideal Solution, is a multi-criteria decision analysis method. It compares a set of alternatives based on pre-specified criterions. Depending on the importace of each criteria, a weigth is considered. The weights are sumup to 1. Also the positive effect or negative effect of each criteria is shown by 1 or -1 . In the following, these parameters are given to the model and the ranking of carriers are specified by the model:\n",
    "</p>    \n",
    "</div>"
   ]
  },
  {
   "cell_type": "code",
   "execution_count": 14,
   "id": "12d27d19-78ba-4397-ab9e-7d9ec46d1a33",
   "metadata": {},
   "outputs": [],
   "source": [
    "import topsispy as tp\n",
    "\n",
    "weights_signs={  'meanDepDelay': [0.025, -1],\n",
    "                 'meanArrDelay': [0.025, -1],\n",
    "                 'crashed': [0.1,-1],\n",
    "                 'canceled':[0.05,-1],\n",
    "                 'airPlanesCount':[0.05 , 1],\n",
    "                 'meanSpeed':[0.05,1],\n",
    "                 'activeRoutes':[0.2, 1], \n",
    "                 'flightsCount': [0.20 , 1] ,\n",
    "                 'Flightsmileage': [0.30 , 1]\n",
    "              }\n",
    "\n",
    "a = np.array(ranking_carriers[weights_signs.keys()]  ) \n",
    "w= [x[0] for x in list(weights_signs.values()) ]\n",
    "sign= [x[1] for x in list(weights_signs.values()) ] \n",
    "ranking_carriers['carrier_rank'] = tp.topsis(a, w, sign)[1]\n"
   ]
  },
  {
   "cell_type": "code",
   "execution_count": 15,
   "id": "79029a0d-59f2-4664-95ea-bf5c799d94fb",
   "metadata": {},
   "outputs": [
    {
     "data": {
      "image/png": "[encoded data removed]",
      "text/plain": [
       "<Figure size 640x480 with 1 Axes>"
      ]
     },
     "metadata": {},
     "output_type": "display_data"
    }
   ],
   "source": [
    "sns.barplot(data=ranking_carriers , x='carrier' , y='carrier_rank'  );\n",
    " "
   ]
  },
  {
   "cell_type": "code",
   "execution_count": 16,
   "id": "9a3fe25c-ff29-427a-bf56-395541e2a9ce",
   "metadata": {},
   "outputs": [
    {
     "data": {
      "text/plain": [
       "16"
      ]
     },
     "execution_count": 16,
     "metadata": {},
     "output_type": "execute_result"
    }
   ],
   "source": [
    "ranking_carriers['carrier_rank'].nunique()\n"
   ]
  },
  {
   "cell_type": "markdown",
   "id": "add0bd62-46cb-4c3c-9a80-28142dac564f",
   "metadata": {},
   "source": [
    "<div style=\"color:black;\n",
    "           display:fill; \n",
    "           background-color:powderblue;\n",
    "           font-size:100%;\n",
    "           font-family:Verdana;\n",
    "           letter-spacing:0.5px\">\n",
    "\n",
    "<p style=\"padding: 20px;\n",
    "              color:black ;\"> \n",
    "Since we have 16 distinct rank corresponding to 16 carriers, we can substitute categorical value of the carriers with their rank as its quantitive value. The following cell does this:\n",
    "</p>    \n",
    "</div>"
   ]
  },
  {
   "cell_type": "code",
   "execution_count": 17,
   "id": "586749c8-960b-457b-96ac-a465d1e4b771",
   "metadata": {},
   "outputs": [
    {
     "data": {
      "text/plain": [
       "Index(['id', 'month', 'day', 'dep_time', 'sched_dep_time', 'dep_delay',\n",
       "       'arr_time', 'sched_arr_time', 'arr_delay', 'flight', 'tailnum',\n",
       "       'origin', 'dest', 'air_time', 'distance', 'hour', 'minute', 'dayOfYear',\n",
       "       'speed', 'canceled', 'crashed', 'routes', 'carrier_rank'],\n",
       "      dtype='object')"
      ]
     },
     "execution_count": 17,
     "metadata": {},
     "output_type": "execute_result"
    }
   ],
   "source": [
    "df=df.merge( ranking_carriers[['carrier' , 'carrier_rank']]   , on='carrier')\n",
    "try:\n",
    "    df=df.drop('carrier' , axis=1)\n",
    "except:\n",
    "    pass\n",
    "df.columns"
   ]
  },
  {
   "cell_type": "markdown",
   "id": "0fd7abe6-7d83-40e3-8c67-da3e2661efa6",
   "metadata": {},
   "source": [
    "<div style=\"color:black;\n",
    "           display:fill; \n",
    "           background-color:pink;\n",
    "           font-size:100%;\n",
    "           font-family:Verdana;\n",
    "           letter-spacing:0.5px\">\n",
    "\n",
    "<p style=\"padding: 20px;\n",
    "              color:black ;\">     \n",
    "From now on, we may define different machine learning problems and choose different parts of our dataframe to work on:\n",
    "    <ul>\n",
    "        <li> <b> Predicting a flight will be crashed or canceled or none of them </b> </li>\n",
    "        <li> <b> Predicting arrival delay or departure delay for a flight</b></li>\n",
    "    </ul>\n",
    "based on each problem we only consider dataset's related parts:\n",
    "    <ul>\n",
    "    <li> For the first problem, we should obviously drop dep_time and arr_time and air_time columns.</li>\n",
    "    <li> For the second problem we do not include rows corresponding to the canceled or crashed flights in our dataset. We also do not need 'canceled' and 'crashed' columns. These values were only reflected in rank of carriers when quantified 'carrier' column and we do not need them anymore. It is emphasized again that the nulls corresponding to canceled or crashed flights are not due to the lack of data. Hence they are not missing values and we do not need to fill these nulls by different imputers. \n",
    "    </li>\n",
    "    </ul>\n",
    "   \n",
    "    \n",
    "    \n",
    "<b> Now on we continue with the dataset without canceled or crashed flights. </b>\n",
    "    \n",
    "</p>    \n",
    "</div>"
   ]
  },
  {
   "cell_type": "code",
   "execution_count": 18,
   "id": "f8031745-841b-480f-b7ed-b862d00de13c",
   "metadata": {},
   "outputs": [],
   "source": [
    "dfOld=df"
   ]
  },
  {
   "cell_type": "code",
   "execution_count": 19,
   "id": "e9b53b34-3408-45b6-be76-4b29016a9adc",
   "metadata": {},
   "outputs": [
    {
     "name": "stdout",
     "output_type": "stream",
     "text": [
      "<class 'pandas.core.frame.DataFrame'>\n",
      "Int64Index: 328063 entries, 0 to 336775\n",
      "Data columns (total 21 columns):\n",
      " #   Column          Non-Null Count   Dtype  \n",
      "---  ------          --------------   -----  \n",
      " 0   id              328063 non-null  int64  \n",
      " 1   month           328063 non-null  int64  \n",
      " 2   day             328063 non-null  int64  \n",
      " 3   dep_time        328063 non-null  float64\n",
      " 4   sched_dep_time  328063 non-null  float64\n",
      " 5   dep_delay       328063 non-null  float64\n",
      " 6   arr_time        328063 non-null  float64\n",
      " 7   sched_arr_time  328063 non-null  float64\n",
      " 8   arr_delay       328063 non-null  float64\n",
      " 9   flight          328063 non-null  int64  \n",
      " 10  tailnum         328063 non-null  object \n",
      " 11  origin          328063 non-null  object \n",
      " 12  dest            328063 non-null  object \n",
      " 13  air_time        328063 non-null  float64\n",
      " 14  distance        328063 non-null  int64  \n",
      " 15  hour            328063 non-null  int64  \n",
      " 16  minute          328063 non-null  int64  \n",
      " 17  dayOfYear       328063 non-null  int64  \n",
      " 18  speed           328063 non-null  float64\n",
      " 19  routes          328063 non-null  object \n",
      " 20  carrier_rank    328063 non-null  float64\n",
      "dtypes: float64(9), int64(8), object(4)\n",
      "memory usage: 55.1+ MB\n"
     ]
    }
   ],
   "source": [
    "df=df.loc[(df.crashed==0) & (df.canceled==0)] [ ['id', 'month', 'day', 'dep_time', 'sched_dep_time', 'dep_delay',\n",
    "                                                   'arr_time', 'sched_arr_time', 'arr_delay', 'flight', 'tailnum',\n",
    "                                                   'origin', 'dest', 'air_time', 'distance', 'hour', 'minute', 'dayOfYear',\n",
    "                                                   'speed', 'routes', 'carrier_rank']\n",
    "                                              ]\n",
    "\n",
    "df.info()"
   ]
  },
  {
   "cell_type": "markdown",
   "id": "6ef1c4a3-0008-4354-9180-e13e4d113447",
   "metadata": {},
   "source": [
    "<div style=\"color:black;\n",
    "           display:fill; \n",
    "           background-color:powderblue;\n",
    "           font-size:100%;\n",
    "           font-family:Verdana;\n",
    "           letter-spacing:0.5px\">\n",
    "\n",
    "<p style=\"padding: 20px;\n",
    "              color:black ;\"> According to the above table, we do not have null values anymore.   \n",
    "</p>    \n",
    "</div>"
   ]
  },
  {
   "cell_type": "markdown",
   "id": "69ed3462-b39a-4d53-a681-a11ddd0da2e1",
   "metadata": {},
   "source": [
    " <div style=\"color:black;\n",
    "           display:fill;\n",
    "           border-radius:120px;\n",
    "           background-color:blue;\n",
    "           font-size:120%;\n",
    "           font-family:Verdana;\n",
    "           letter-spacing:0.5px\">\n",
    "\n",
    "<p style=\"padding: 20px;\n",
    "          color:white ;\">📌<b> Categorical features: origin , destination and route </b> \n",
    "</p>    \n",
    "</div> "
   ]
  },
  {
   "cell_type": "markdown",
   "id": "c471ce1a-bffc-4a4f-8f00-f61e7e8fc477",
   "metadata": {},
   "source": [
    "<div style=\"color:black;\n",
    "           display:fill; \n",
    "           background-color:powderblue;\n",
    "           font-size:100%;\n",
    "           font-family:Verdana;\n",
    "           letter-spacing:0.5px\">\n",
    "\n",
    "<p style=\"padding: 20px;\n",
    "              color:black ;\"> \n",
    " Previously we merged origin and destination information into one column 'route'. so we can ignore individual columns 'origin' and 'distance' and only consider 'routes' column. Now we should find a quantitive vale instead of the 'route' column.The first quantitive substitutionis value for the routes seems to be a  their distance value. But we should ensure that there exists a one-to-one relationship between routes and their distance values.  \n",
    "</p>  \n",
    "</div>"
   ]
  },
  {
   "cell_type": "code",
   "execution_count": 20,
   "id": "f619cd13-6f8e-4d92-9054-43c5433c5271",
   "metadata": {},
   "outputs": [],
   "source": [
    "#df2 gathers all distinct pairs of routes-distances\n",
    "df2=df [['distance','routes']]. drop_duplicates() \n"
   ]
  },
  {
   "cell_type": "markdown",
   "id": "d44f9d2f-8bf1-4601-8cba-1eeb974ed5fc",
   "metadata": {},
   "source": [
    "<div style=\"color:black;\n",
    "           display:fill; \n",
    "           background-color:powderblue;\n",
    "           font-size:100%;\n",
    "           font-family:Verdana;\n",
    "           letter-spacing:0.5px\">\n",
    "\n",
    "<p style=\"padding: 20px;\n",
    "              color:black ;\"> \n",
    "    In order to do that, First, we investigate whether there is a unique distance value for every individual route or not:\n",
    "\n",
    "</p> \n",
    "</div>"
   ]
  },
  {
   "cell_type": "code",
   "execution_count": 21,
   "id": "5d2b379a-fc63-4383-ab4b-8ad2b8772be6",
   "metadata": {},
   "outputs": [
    {
     "name": "stdout",
     "output_type": "stream",
     "text": [
      "       distance     routes\n",
      "44         1726  EWR - EGE\n",
      "17565      1725  EWR - EGE\n",
      "       distance     routes\n",
      "58731      1747  JFK - EGE\n",
      "68429      1746  JFK - EGE\n",
      "Routes which must be corrected: {'EWR - EGE': 1725.5, 'JFK - EGE': 1746.5}\n"
     ]
    }
   ],
   "source": [
    "#create an empty dict for possible routes which their distance values must be corrected\n",
    "to_correct={}\n",
    "\n",
    "#Search for possible route r with more than one distance value !!\n",
    "for r in  df2.routes.unique() :\n",
    "    R=df2.loc[df.routes==r]\n",
    "    if (len(R) >1):\n",
    "        to_correct[r]=R.distance.mean()\n",
    "        print(R) \n",
    "print(f\"Routes which must be corrected: {to_correct}\")"
   ]
  },
  {
   "cell_type": "markdown",
   "id": "93eabbdd-5cdd-46bb-a465-c9af2dfffa95",
   "metadata": {},
   "source": [
    "<div style=\"color:black;\n",
    "           display:fill; \n",
    "           background-color:powderblue;\n",
    "           font-size:100%;\n",
    "           font-family:Verdana;\n",
    "           letter-spacing:0.5px\">\n",
    "\n",
    "<p style=\"padding: 20px;\n",
    "              color:black ;\"> Now we must investigate whether there is some different routes with the same distance or not. Here is the list of the routes with the same distance:\n",
    "\n",
    "</p>    \n",
    "</div>"
   ]
  },
  {
   "cell_type": "code",
   "execution_count": 22,
   "id": "20b2f33d-f72d-421a-beee-b5df7f9b9004",
   "metadata": {},
   "outputs": [],
   "source": [
    "route_counts = df2.groupby('distance').size() "
   ]
  },
  {
   "cell_type": "code",
   "execution_count": 23,
   "id": "9e19b4ca-9312-4014-bb29-8f1cbf0773e9",
   "metadata": {},
   "outputs": [
    {
     "name": "stdout",
     "output_type": "stream",
     "text": [
      "    dist                  routes\n",
      "0    184  [JFK - BWI, LGA - BOS]\n",
      "1    195  [EWR - SYR, LGA - MHT]\n",
      "2    199  [EWR - DCA, JFK - ACK]\n",
      "3    209  [JFK - SYR, EWR - MHT]\n",
      "4    266  [JFK - BTV, EWR - BTV]\n",
      "5    284  [EWR - PWM, EWR - ORF]\n",
      "6    292  [LGA - BUF, LGA - RIC]\n",
      "7    725  [EWR - MKE, LGA - MDW]\n",
      "8   1428  [JFK - HOU, LGA - HOU]\n",
      "9   2434  [EWR - SNA, EWR - PDX]\n",
      "10  2454  [EWR - LAX, JFK - PDX]\n",
      "11  2465  [JFK - LGB, JFK - BUR]\n"
     ]
    }
   ],
   "source": [
    "same_distance_routes=[]\n",
    "for distance, count in route_counts.items():\n",
    "    if count > 1:\n",
    "        r=df2[df2['distance'] == distance]['routes'].tolist()\n",
    "        same_distance_routes . append( (distance , r) ) \n",
    "print(pd.DataFrame(same_distance_routes , columns=['dist','routes'] ) )"
   ]
  },
  {
   "cell_type": "markdown",
   "id": "2d723440-3556-4226-9249-aa28eb7ff704",
   "metadata": {},
   "source": [
    "<div style=\"color:black;\n",
    "           display:fill; \n",
    "           background-color:powderblue;\n",
    "           font-size:100%;\n",
    "           font-family:Verdana;\n",
    "           letter-spacing:0.5px\">\n",
    "\n",
    "<p style=\"padding: 20px;\n",
    "              color:black ;\"> \n",
    "To deal with such routes, we add a tiny value to the distance values for the route with the same distance. For instance, the routes with 184 miles distance, will have 184 , 184.1 miles of distance:\n",
    "</p>    \n",
    "</div>"
   ]
  },
  {
   "cell_type": "code",
   "execution_count": 24,
   "id": "7dbb8c1a-693e-4d87-82f5-45a53931358a",
   "metadata": {},
   "outputs": [
    {
     "name": "stdout",
     "output_type": "stream",
     "text": [
      "       routes  distance\n",
      "0   EWR - EGE    1725.5\n",
      "1   JFK - EGE    1746.5\n",
      "2   LGA - BOS     184.1\n",
      "3   LGA - MHT     195.1\n",
      "4   JFK - ACK     199.1\n",
      "5   EWR - MHT     209.1\n",
      "6   EWR - BTV     266.1\n",
      "7   EWR - ORF     284.1\n",
      "8   LGA - RIC     292.1\n",
      "9   LGA - MDW     725.1\n",
      "10  LGA - HOU    1428.1\n",
      "11  EWR - PDX    2434.1\n",
      "12  JFK - PDX    2454.1\n",
      "13  JFK - BUR    2465.1\n"
     ]
    }
   ],
   "source": [
    "\n",
    "for d , routes in same_distance_routes:\n",
    "    for i,r in enumerate(routes):\n",
    "        #leave the first route with the same distance d and change the rest routes' distances by d+0.1 , d+0.2 , ....\n",
    "        if i!=0: \n",
    "            to_correct[r]= d+i*0.1  \n",
    "            \n",
    "print(pd.DataFrame({'routes' :  to_correct.keys()  , 'distance' :  to_correct.values()})) "
   ]
  },
  {
   "cell_type": "markdown",
   "id": "61304d9b-7421-45b0-b796-e9b5a5561072",
   "metadata": {},
   "source": [
    "<div style=\"color:black;\n",
    "           display:fill; \n",
    "           background-color:powderblue;\n",
    "           font-size:100%;\n",
    "           font-family:Verdana;\n",
    "           letter-spacing:0.5px\">\n",
    "\n",
    "<p style=\"padding: 20px;\n",
    "              color:black ;\"> \n",
    "    Now we substitute new values in our main dataframe:\n",
    "</p>    \n",
    "</div>"
   ]
  },
  {
   "cell_type": "code",
   "execution_count": 25,
   "id": "2d8c0ec0-b521-4063-ab35-be56bc5eab73",
   "metadata": {},
   "outputs": [
    {
     "name": "stdout",
     "output_type": "stream",
     "text": [
      "Number of distinct distance routes is : 223\n",
      "Number of distinct distance values is : 223\n"
     ]
    }
   ],
   "source": [
    "\n",
    "df.distance=df.distance.astype('float')\n",
    "\n",
    "for r  in  to_correct.keys(): \n",
    "    df.loc[ (df['routes'] == r)  , 'distance']=  to_correct[r]\n",
    "        \n",
    "\n",
    "print(f\"Number of distinct distance routes is : {df.routes.nunique()}\")   \n",
    "print(f\"Number of distinct distance values is : {df.distance.nunique()}\")        \n",
    "\n"
   ]
  },
  {
   "cell_type": "markdown",
   "id": "eea30233-b913-4db1-8355-672afa2266cb",
   "metadata": {},
   "source": [
    "<div style=\"color:black;\n",
    "           display:fill; \n",
    "           background-color:powderblue;\n",
    "           font-size:100%;\n",
    "           font-family:Verdana;\n",
    "           letter-spacing:0.5px\">\n",
    "\n",
    "<p style=\"padding: 20px;\n",
    "              color:black ;\"> \n",
    "Now on we can drop route column and use distance column instead as its equivalent quantitive value.\n",
    "</p>    \n",
    "</div>"
   ]
  },
  {
   "cell_type": "code",
   "execution_count": 26,
   "id": "ad134c42-9db3-4207-8664-3e496aae9462",
   "metadata": {},
   "outputs": [],
   "source": [
    "try:\n",
    "    df=df.drop(['routes','id','tailnum' , 'origin' , 'dest','flight'] , axis=1)\n",
    "except:\n",
    "    pass"
   ]
  },
  {
   "cell_type": "markdown",
   "id": "11daa37b-24a4-4e93-92c0-5eddf6b03f5b",
   "metadata": {},
   "source": [
    " <div style=\"color:black;\n",
    "           display:fill;\n",
    "           border-radius:120px;\n",
    "           background-color:blue;\n",
    "           font-size:120%;\n",
    "           font-family:Verdana;\n",
    "           letter-spacing:0.5px\">\n",
    "\n",
    "<p style=\"padding: 20px;\n",
    "          color:white ;\">📌<b> Outlier detection </b> \n",
    "</p>    \n",
    "</div> "
   ]
  },
  {
   "cell_type": "code",
   "execution_count": 27,
   "id": "78c3cc36-e396-4a91-9193-7d96bc0bc90f",
   "metadata": {},
   "outputs": [
    {
     "name": "stdout",
     "output_type": "stream",
     "text": [
      "<class 'pandas.core.frame.DataFrame'>\n",
      "Int64Index: 328063 entries, 0 to 336775\n",
      "Data columns (total 15 columns):\n",
      " #   Column          Non-Null Count   Dtype  \n",
      "---  ------          --------------   -----  \n",
      " 0   month           328063 non-null  int64  \n",
      " 1   day             328063 non-null  int64  \n",
      " 2   dep_time        328063 non-null  float64\n",
      " 3   sched_dep_time  328063 non-null  float64\n",
      " 4   dep_delay       328063 non-null  float64\n",
      " 5   arr_time        328063 non-null  float64\n",
      " 6   sched_arr_time  328063 non-null  float64\n",
      " 7   arr_delay       328063 non-null  float64\n",
      " 8   air_time        328063 non-null  float64\n",
      " 9   distance        328063 non-null  float64\n",
      " 10  hour            328063 non-null  int64  \n",
      " 11  minute          328063 non-null  int64  \n",
      " 12  dayOfYear       328063 non-null  int64  \n",
      " 13  speed           328063 non-null  float64\n",
      " 14  carrier_rank    328063 non-null  float64\n",
      "dtypes: float64(10), int64(5)\n",
      "memory usage: 48.1 MB\n"
     ]
    },
    {
     "data": {
      "text/plain": [
       "Index(['month', 'day', 'dep_time', 'sched_dep_time', 'dep_delay', 'arr_time',\n",
       "       'sched_arr_time', 'arr_delay', 'air_time', 'distance', 'hour', 'minute',\n",
       "       'dayOfYear', 'speed', 'carrier_rank'],\n",
       "      dtype='object')"
      ]
     },
     "execution_count": 27,
     "metadata": {},
     "output_type": "execute_result"
    }
   ],
   "source": [
    "df.info()\n",
    "df.columns"
   ]
  },
  {
   "cell_type": "code",
   "execution_count": 65,
   "id": "92e4dc74-f9a0-42a1-b10c-25cbff4e5a9b",
   "metadata": {
    "tags": []
   },
   "outputs": [
    {
     "name": "stderr",
     "output_type": "stream",
     "text": [
      "C:\\ProgramData\\anaconda3\\lib\\site-packages\\matplotlib\\scale.py:253: RuntimeWarning: overflow encountered in power\n",
      "  return np.power(self.base, a)\n"
     ]
    },
    {
     "data": {
      "image/png": "[encoded data removed]",
      "text/plain": [
       "<Figure size 640x480 with 1 Axes>"
      ]
     },
     "metadata": {},
     "output_type": "display_data"
    },
    {
     "name": "stderr",
     "output_type": "stream",
     "text": [
      "C:\\ProgramData\\anaconda3\\lib\\site-packages\\matplotlib\\scale.py:253: RuntimeWarning: overflow encountered in power\n",
      "  return np.power(self.base, a)\n"
     ]
    },
    {
     "data": {
      "image/png": "[encoded data removed]",
      "text/plain": [
       "<Figure size 640x480 with 1 Axes>"
      ]
     },
     "metadata": {},
     "output_type": "display_data"
    },
    {
     "data": {
      "image/png": "[encoded data removed]",
      "text/plain": [
       "<Figure size 640x480 with 1 Axes>"
      ]
     },
     "metadata": {},
     "output_type": "display_data"
    }
   ],
   "source": [
    "cols=['dep_time', 'sched_dep_time',  'arr_time',\n",
    "       'sched_arr_time',  'air_time', 'distance', \n",
    "       'dayOfYear', 'speed']\n",
    "ul={}\n",
    "um={}\n",
    "\n",
    "\n",
    "def find_outliers_bounds(data , column):\n",
    "    q1=data[column].quantile(0.25)\n",
    "    q3=data[column].quantile(0.75)\n",
    "    ul = q1-1.5*(q3-q1)\n",
    "    um = q3+1.5*(q3-q1)\n",
    "    return(ul,um)\n",
    "\n",
    "\n",
    "\n",
    "for col in cols:  \n",
    "        ul[col],um[col]=find_outliers_bounds(df , col)\n",
    "        topOutliers=df.loc[df[col]>um[col]]\n",
    "        btmOutliers=df.loc[df[col]<ul[col]]  \n",
    "        if (len(topOutliers)>0 or len(btmOutliers)>0 ):\n",
    "                plt.hist(df[col] , alpha=0.5 , bins=100 , log=True )\n",
    "                if len(topOutliers)>0:\n",
    "                    #print(f\"num of top outliers of {x}:{len(topOutliers)}\")\n",
    "                    plt.axvline(x= um[col], ymin=-1, ymax=df[col].max(), color='red' , label=str(len(btmOutliers))  ) \n",
    "                    plt.annotate(str(len(topOutliers))+' right outliers' ,xy=(um[col],500) , color='red')\n",
    "                if len(btmOutliers)>0:\n",
    "                    #print(f\"num of btm outliers of {x}:{len(btmOutliers)}\")\n",
    "                    plt.axvline(x=ul[col] ,ymin=-1, ymax=df[col].max(), color='black', label=str(len(btmOutliers))  ) \n",
    "                    plt.annotate(str(len(topOutliers))+'left outliers' ,xy=(0,500) , color='red' ,)\n",
    "                plt.title(col)\n",
    "                plt.show()\n",
    "        "
   ]
  },
  {
   "cell_type": "markdown",
   "id": "090f2eeb-43eb-41fb-92bf-8894daf22fa8",
   "metadata": {},
   "source": [
    "\n",
    "<div style=\"color:black;\n",
    "           display:fill; \n",
    "           background-color:powderblue;\n",
    "           font-size:100%;\n",
    "           font-family:Verdana;\n",
    "           letter-spacing:0.5px\">\n",
    "\n",
    "<p style=\"padding: 20px;\n",
    "              color:black ;\"> \n",
    "    Since the number of outliers are relatively high, we do notmodify or remove them temporarily until we see the ML algorithm results. After that we decide how to deal with them. As a suggestion, we may modify the outlier values in respect to their route category ( corresponding to distance value). But yet, we postpone modifying them.\n",
    "</p>    \n",
    "</div>"
   ]
  },
  {
   "cell_type": "markdown",
   "id": "1018b26a-68a5-450c-88ea-54de661d777d",
   "metadata": {},
   "source": [
    " <div style=\"color:black;\n",
    "           display:fill;\n",
    "           border-radius:120px;\n",
    "           background-color:blue;\n",
    "           font-size:120%;\n",
    "           font-family:Verdana;\n",
    "           letter-spacing:0.5px\">\n",
    "\n",
    "<p style=\"padding: 20px;\n",
    "          color:white ;\">📌<b> Scaling features </b> \n",
    "</p>    \n",
    "</div> "
   ]
  },
  {
   "cell_type": "markdown",
   "id": "c8e539b6-68d5-4af5-9298-9bd49b11b4f3",
   "metadata": {},
   "source": [
    "\n",
    "<div style=\"color:black;\n",
    "           display:fill; \n",
    "           background-color:powderblue;\n",
    "           font-size:100%;\n",
    "           font-family:Verdana;\n",
    "           letter-spacing:0.5px\">\n",
    "\n",
    "<p style=\"padding: 20px;\n",
    "              color:black ;\"> \n",
    "    Some of features like 'carrier_rank' are themselves in range [0,1]. Hence, we do not need to do scaling for them. the rest of the features can be scaled with z_score scaler as follows: \n",
    "</p>    \n",
    "</div>"
   ]
  },
  {
   "cell_type": "code",
   "execution_count": 67,
   "id": "21b5bc25-7a04-432a-88f7-ca34884aeb17",
   "metadata": {},
   "outputs": [],
   "source": [
    "from sklearn.preprocessing import Normalizer\n",
    "norm=Normalizer()\n",
    "df=norm.fit_transform(df)"
   ]
  },
  {
   "cell_type": "code",
   "execution_count": 69,
   "id": "c33662b4-802d-43fa-a8b1-75c3f451d50e",
   "metadata": {},
   "outputs": [
    {
     "data": {
      "text/plain": [
       "array([[6.06254299e-04, 6.06254299e-04, 1.92182613e-01, ...,\n",
       "        6.06254299e-04, 3.73901330e-03, 4.75299163e-04],\n",
       "       [5.95698436e-04, 5.95698436e-04, 1.98367579e-01, ...,\n",
       "        5.95698436e-04, 3.71589861e-03, 4.67023440e-04],\n",
       "       [9.09534287e-04, 9.09534287e-04, 3.21975138e-01, ...,\n",
       "        9.09534287e-04, 4.35970102e-03, 7.13068569e-04],\n",
       "       ...,\n",
       "       [3.86573538e-03, 9.44957538e-03, 4.63458720e-01, ...,\n",
       "        1.13824431e-01, 2.68614117e-03, 1.09439852e-04],\n",
       "       [3.87383065e-03, 9.89978943e-03, 4.64429252e-01, ...,\n",
       "        1.14493217e-01, 2.65218144e-03, 1.09669030e-04],\n",
       "       [3.87812881e-03, 1.03416768e-02, 4.61497328e-01, ...,\n",
       "        1.15051155e-01, 2.69475285e-03, 1.09790712e-04]])"
      ]
     },
     "execution_count": 69,
     "metadata": {},
     "output_type": "execute_result"
    }
   ],
   "source": [
    "df"
   ]
  },
  {
   "cell_type": "code",
   "execution_count": null,
   "id": "03524690-20e2-476d-830f-c6eaf3a221ae",
   "metadata": {},
   "outputs": [],
   "source": []
  }
 ],
 "metadata": {
  "kernelspec": {
   "display_name": "Python 3 (ipykernel)",
   "language": "python",
   "name": "python3"
  },
  "language_info": {
   "codemirror_mode": {
    "name": "ipython",
    "version": 3
   },
   "file_extension": ".py",
   "mimetype": "text/x-python",
   "name": "python",
   "nbconvert_exporter": "python",
   "pygments_lexer": "ipython3",
   "version": "3.10.9"
  }
 },
 "nbformat": 4,
 "nbformat_minor": 5
}
